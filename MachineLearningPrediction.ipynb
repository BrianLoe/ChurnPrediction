{
 "cells": [
  {
   "cell_type": "markdown",
   "id": "e14620c8",
   "metadata": {},
   "source": [
    "# Churn Prediction Using Classification"
   ]
  },
  {
   "cell_type": "markdown",
   "id": "1000f97c",
   "metadata": {},
   "source": [
    "In here, I am going to use two methods, using the actual samples and using resampling method to make each class have equal samples. The expectation when using resampling method is to avoid bias because when testing the models with actual samples, they tend to predict all samples to not churn (because the data contain more `0` class)."
   ]
  },
  {
   "cell_type": "code",
   "execution_count": 158,
   "id": "00c89be5",
   "metadata": {},
   "outputs": [],
   "source": [
    "# importing libraries\n",
    "# main libraries\n",
    "import pandas as pd\n",
    "import matplotlib\n",
    "import matplotlib.pyplot as plt\n",
    "import seaborn as sns\n",
    "import numpy as np\n",
    "# model building libraries\n",
    "from sklearn.feature_selection import RFE, RFECV\n",
    "from sklearn.linear_model import LogisticRegression\n",
    "from sklearn.tree import DecisionTreeClassifier\n",
    "from sklearn.ensemble import RandomForestClassifier, GradientBoostingClassifier\n",
    "from sklearn.pipeline import Pipeline\n",
    "%matplotlib inline\n",
    "plt.rcParams['figure.figsize']=(10,6)\n",
    "\n",
    "from warnings import filterwarnings\n",
    "filterwarnings('ignore')"
   ]
  },
  {
   "cell_type": "code",
   "execution_count": 36,
   "id": "db530069",
   "metadata": {
    "scrolled": true
   },
   "outputs": [
    {
     "data": {
      "text/html": [
       "<div>\n",
       "<style scoped>\n",
       "    .dataframe tbody tr th:only-of-type {\n",
       "        vertical-align: middle;\n",
       "    }\n",
       "\n",
       "    .dataframe tbody tr th {\n",
       "        vertical-align: top;\n",
       "    }\n",
       "\n",
       "    .dataframe thead th {\n",
       "        text-align: right;\n",
       "    }\n",
       "</style>\n",
       "<table border=\"1\" class=\"dataframe\">\n",
       "  <thead>\n",
       "    <tr style=\"text-align: right;\">\n",
       "      <th></th>\n",
       "      <th>CustomerId</th>\n",
       "      <th>Surname</th>\n",
       "      <th>CreditScore</th>\n",
       "      <th>Age</th>\n",
       "      <th>Tenure</th>\n",
       "      <th>Balance</th>\n",
       "      <th>NumOfProducts</th>\n",
       "      <th>HasCrCard</th>\n",
       "      <th>IsActiveMember</th>\n",
       "      <th>EstimatedSalary</th>\n",
       "      <th>Exited</th>\n",
       "      <th>Complain</th>\n",
       "      <th>Satisfaction Score</th>\n",
       "      <th>Card Type</th>\n",
       "      <th>Point Earned</th>\n",
       "      <th>Female</th>\n",
       "      <th>Male</th>\n",
       "      <th>France</th>\n",
       "      <th>Germany</th>\n",
       "      <th>Spain</th>\n",
       "    </tr>\n",
       "  </thead>\n",
       "  <tbody>\n",
       "    <tr>\n",
       "      <th>0</th>\n",
       "      <td>15634602</td>\n",
       "      <td>Hargrave</td>\n",
       "      <td>619</td>\n",
       "      <td>42</td>\n",
       "      <td>2</td>\n",
       "      <td>0.00</td>\n",
       "      <td>1</td>\n",
       "      <td>1</td>\n",
       "      <td>1</td>\n",
       "      <td>101348.88</td>\n",
       "      <td>1</td>\n",
       "      <td>1</td>\n",
       "      <td>2</td>\n",
       "      <td>DIAMOND</td>\n",
       "      <td>464</td>\n",
       "      <td>1</td>\n",
       "      <td>0</td>\n",
       "      <td>1</td>\n",
       "      <td>0</td>\n",
       "      <td>0</td>\n",
       "    </tr>\n",
       "    <tr>\n",
       "      <th>1</th>\n",
       "      <td>15647311</td>\n",
       "      <td>Hill</td>\n",
       "      <td>608</td>\n",
       "      <td>41</td>\n",
       "      <td>1</td>\n",
       "      <td>83807.86</td>\n",
       "      <td>1</td>\n",
       "      <td>0</td>\n",
       "      <td>1</td>\n",
       "      <td>112542.58</td>\n",
       "      <td>0</td>\n",
       "      <td>1</td>\n",
       "      <td>3</td>\n",
       "      <td>DIAMOND</td>\n",
       "      <td>456</td>\n",
       "      <td>1</td>\n",
       "      <td>0</td>\n",
       "      <td>0</td>\n",
       "      <td>0</td>\n",
       "      <td>1</td>\n",
       "    </tr>\n",
       "    <tr>\n",
       "      <th>2</th>\n",
       "      <td>15619304</td>\n",
       "      <td>Onio</td>\n",
       "      <td>502</td>\n",
       "      <td>42</td>\n",
       "      <td>8</td>\n",
       "      <td>159660.80</td>\n",
       "      <td>3</td>\n",
       "      <td>1</td>\n",
       "      <td>0</td>\n",
       "      <td>113931.57</td>\n",
       "      <td>1</td>\n",
       "      <td>1</td>\n",
       "      <td>3</td>\n",
       "      <td>DIAMOND</td>\n",
       "      <td>377</td>\n",
       "      <td>1</td>\n",
       "      <td>0</td>\n",
       "      <td>1</td>\n",
       "      <td>0</td>\n",
       "      <td>0</td>\n",
       "    </tr>\n",
       "    <tr>\n",
       "      <th>3</th>\n",
       "      <td>15701354</td>\n",
       "      <td>Boni</td>\n",
       "      <td>699</td>\n",
       "      <td>39</td>\n",
       "      <td>1</td>\n",
       "      <td>0.00</td>\n",
       "      <td>2</td>\n",
       "      <td>0</td>\n",
       "      <td>0</td>\n",
       "      <td>93826.63</td>\n",
       "      <td>0</td>\n",
       "      <td>0</td>\n",
       "      <td>5</td>\n",
       "      <td>GOLD</td>\n",
       "      <td>350</td>\n",
       "      <td>1</td>\n",
       "      <td>0</td>\n",
       "      <td>1</td>\n",
       "      <td>0</td>\n",
       "      <td>0</td>\n",
       "    </tr>\n",
       "    <tr>\n",
       "      <th>4</th>\n",
       "      <td>15737888</td>\n",
       "      <td>Mitchell</td>\n",
       "      <td>850</td>\n",
       "      <td>43</td>\n",
       "      <td>2</td>\n",
       "      <td>125510.82</td>\n",
       "      <td>1</td>\n",
       "      <td>1</td>\n",
       "      <td>1</td>\n",
       "      <td>79084.10</td>\n",
       "      <td>0</td>\n",
       "      <td>0</td>\n",
       "      <td>5</td>\n",
       "      <td>GOLD</td>\n",
       "      <td>425</td>\n",
       "      <td>1</td>\n",
       "      <td>0</td>\n",
       "      <td>0</td>\n",
       "      <td>0</td>\n",
       "      <td>1</td>\n",
       "    </tr>\n",
       "  </tbody>\n",
       "</table>\n",
       "</div>"
      ],
      "text/plain": [
       "   CustomerId   Surname  CreditScore  Age  Tenure    Balance  NumOfProducts  \\\n",
       "0    15634602  Hargrave          619   42       2       0.00              1   \n",
       "1    15647311      Hill          608   41       1   83807.86              1   \n",
       "2    15619304      Onio          502   42       8  159660.80              3   \n",
       "3    15701354      Boni          699   39       1       0.00              2   \n",
       "4    15737888  Mitchell          850   43       2  125510.82              1   \n",
       "\n",
       "   HasCrCard  IsActiveMember  EstimatedSalary  Exited  Complain  \\\n",
       "0          1               1        101348.88       1         1   \n",
       "1          0               1        112542.58       0         1   \n",
       "2          1               0        113931.57       1         1   \n",
       "3          0               0         93826.63       0         0   \n",
       "4          1               1         79084.10       0         0   \n",
       "\n",
       "   Satisfaction Score Card Type  Point Earned  Female  Male  France  Germany  \\\n",
       "0                   2   DIAMOND           464       1     0       1        0   \n",
       "1                   3   DIAMOND           456       1     0       0        0   \n",
       "2                   3   DIAMOND           377       1     0       1        0   \n",
       "3                   5      GOLD           350       1     0       1        0   \n",
       "4                   5      GOLD           425       1     0       0        0   \n",
       "\n",
       "   Spain  \n",
       "0      0  \n",
       "1      1  \n",
       "2      0  \n",
       "3      0  \n",
       "4      1  "
      ]
     },
     "execution_count": 36,
     "metadata": {},
     "output_type": "execute_result"
    }
   ],
   "source": [
    "data = pd.read_csv('PrepChurnData.csv')\n",
    "data.head()"
   ]
  },
  {
   "cell_type": "markdown",
   "id": "11b000c1",
   "metadata": {},
   "source": [
    "# Feature Engineering"
   ]
  },
  {
   "cell_type": "code",
   "execution_count": 159,
   "id": "f662a9f0",
   "metadata": {},
   "outputs": [],
   "source": [
    "from sklearn.preprocessing import normalize, LabelEncoder, StandardScaler"
   ]
  },
  {
   "cell_type": "code",
   "execution_count": 37,
   "id": "5c415611",
   "metadata": {
    "scrolled": true
   },
   "outputs": [
    {
     "data": {
      "text/html": [
       "<div>\n",
       "<style scoped>\n",
       "    .dataframe tbody tr th:only-of-type {\n",
       "        vertical-align: middle;\n",
       "    }\n",
       "\n",
       "    .dataframe tbody tr th {\n",
       "        vertical-align: top;\n",
       "    }\n",
       "\n",
       "    .dataframe thead th {\n",
       "        text-align: right;\n",
       "    }\n",
       "</style>\n",
       "<table border=\"1\" class=\"dataframe\">\n",
       "  <thead>\n",
       "    <tr style=\"text-align: right;\">\n",
       "      <th></th>\n",
       "      <th>count</th>\n",
       "      <th>mean</th>\n",
       "      <th>std</th>\n",
       "      <th>min</th>\n",
       "      <th>25%</th>\n",
       "      <th>50%</th>\n",
       "      <th>75%</th>\n",
       "      <th>max</th>\n",
       "    </tr>\n",
       "  </thead>\n",
       "  <tbody>\n",
       "    <tr>\n",
       "      <th>CreditScore</th>\n",
       "      <td>10000.0</td>\n",
       "      <td>650.528800</td>\n",
       "      <td>96.653299</td>\n",
       "      <td>350.00</td>\n",
       "      <td>584.00</td>\n",
       "      <td>652.000</td>\n",
       "      <td>718.0000</td>\n",
       "      <td>850.00</td>\n",
       "    </tr>\n",
       "    <tr>\n",
       "      <th>Age</th>\n",
       "      <td>10000.0</td>\n",
       "      <td>38.921800</td>\n",
       "      <td>10.487806</td>\n",
       "      <td>18.00</td>\n",
       "      <td>32.00</td>\n",
       "      <td>37.000</td>\n",
       "      <td>44.0000</td>\n",
       "      <td>92.00</td>\n",
       "    </tr>\n",
       "    <tr>\n",
       "      <th>Tenure</th>\n",
       "      <td>10000.0</td>\n",
       "      <td>5.012800</td>\n",
       "      <td>2.892174</td>\n",
       "      <td>0.00</td>\n",
       "      <td>3.00</td>\n",
       "      <td>5.000</td>\n",
       "      <td>7.0000</td>\n",
       "      <td>10.00</td>\n",
       "    </tr>\n",
       "    <tr>\n",
       "      <th>Balance</th>\n",
       "      <td>10000.0</td>\n",
       "      <td>76485.889288</td>\n",
       "      <td>62397.405202</td>\n",
       "      <td>0.00</td>\n",
       "      <td>0.00</td>\n",
       "      <td>97198.540</td>\n",
       "      <td>127644.2400</td>\n",
       "      <td>250898.09</td>\n",
       "    </tr>\n",
       "    <tr>\n",
       "      <th>NumOfProducts</th>\n",
       "      <td>10000.0</td>\n",
       "      <td>1.530200</td>\n",
       "      <td>0.581654</td>\n",
       "      <td>1.00</td>\n",
       "      <td>1.00</td>\n",
       "      <td>1.000</td>\n",
       "      <td>2.0000</td>\n",
       "      <td>4.00</td>\n",
       "    </tr>\n",
       "    <tr>\n",
       "      <th>HasCrCard</th>\n",
       "      <td>10000.0</td>\n",
       "      <td>0.705500</td>\n",
       "      <td>0.455840</td>\n",
       "      <td>0.00</td>\n",
       "      <td>0.00</td>\n",
       "      <td>1.000</td>\n",
       "      <td>1.0000</td>\n",
       "      <td>1.00</td>\n",
       "    </tr>\n",
       "    <tr>\n",
       "      <th>IsActiveMember</th>\n",
       "      <td>10000.0</td>\n",
       "      <td>0.515100</td>\n",
       "      <td>0.499797</td>\n",
       "      <td>0.00</td>\n",
       "      <td>0.00</td>\n",
       "      <td>1.000</td>\n",
       "      <td>1.0000</td>\n",
       "      <td>1.00</td>\n",
       "    </tr>\n",
       "    <tr>\n",
       "      <th>EstimatedSalary</th>\n",
       "      <td>10000.0</td>\n",
       "      <td>100090.239881</td>\n",
       "      <td>57510.492818</td>\n",
       "      <td>11.58</td>\n",
       "      <td>51002.11</td>\n",
       "      <td>100193.915</td>\n",
       "      <td>149388.2475</td>\n",
       "      <td>199992.48</td>\n",
       "    </tr>\n",
       "    <tr>\n",
       "      <th>Satisfaction Score</th>\n",
       "      <td>10000.0</td>\n",
       "      <td>3.013800</td>\n",
       "      <td>1.405919</td>\n",
       "      <td>1.00</td>\n",
       "      <td>2.00</td>\n",
       "      <td>3.000</td>\n",
       "      <td>4.0000</td>\n",
       "      <td>5.00</td>\n",
       "    </tr>\n",
       "    <tr>\n",
       "      <th>Point Earned</th>\n",
       "      <td>10000.0</td>\n",
       "      <td>606.515100</td>\n",
       "      <td>225.924839</td>\n",
       "      <td>119.00</td>\n",
       "      <td>410.00</td>\n",
       "      <td>605.000</td>\n",
       "      <td>801.0000</td>\n",
       "      <td>1000.00</td>\n",
       "    </tr>\n",
       "    <tr>\n",
       "      <th>Female</th>\n",
       "      <td>10000.0</td>\n",
       "      <td>0.454300</td>\n",
       "      <td>0.497932</td>\n",
       "      <td>0.00</td>\n",
       "      <td>0.00</td>\n",
       "      <td>0.000</td>\n",
       "      <td>1.0000</td>\n",
       "      <td>1.00</td>\n",
       "    </tr>\n",
       "    <tr>\n",
       "      <th>Male</th>\n",
       "      <td>10000.0</td>\n",
       "      <td>0.545700</td>\n",
       "      <td>0.497932</td>\n",
       "      <td>0.00</td>\n",
       "      <td>0.00</td>\n",
       "      <td>1.000</td>\n",
       "      <td>1.0000</td>\n",
       "      <td>1.00</td>\n",
       "    </tr>\n",
       "    <tr>\n",
       "      <th>France</th>\n",
       "      <td>10000.0</td>\n",
       "      <td>0.501400</td>\n",
       "      <td>0.500023</td>\n",
       "      <td>0.00</td>\n",
       "      <td>0.00</td>\n",
       "      <td>1.000</td>\n",
       "      <td>1.0000</td>\n",
       "      <td>1.00</td>\n",
       "    </tr>\n",
       "    <tr>\n",
       "      <th>Germany</th>\n",
       "      <td>10000.0</td>\n",
       "      <td>0.250900</td>\n",
       "      <td>0.433553</td>\n",
       "      <td>0.00</td>\n",
       "      <td>0.00</td>\n",
       "      <td>0.000</td>\n",
       "      <td>1.0000</td>\n",
       "      <td>1.00</td>\n",
       "    </tr>\n",
       "    <tr>\n",
       "      <th>Spain</th>\n",
       "      <td>10000.0</td>\n",
       "      <td>0.247700</td>\n",
       "      <td>0.431698</td>\n",
       "      <td>0.00</td>\n",
       "      <td>0.00</td>\n",
       "      <td>0.000</td>\n",
       "      <td>0.0000</td>\n",
       "      <td>1.00</td>\n",
       "    </tr>\n",
       "    <tr>\n",
       "      <th>Complain</th>\n",
       "      <td>10000.0</td>\n",
       "      <td>0.204400</td>\n",
       "      <td>0.403283</td>\n",
       "      <td>0.00</td>\n",
       "      <td>0.00</td>\n",
       "      <td>0.000</td>\n",
       "      <td>0.0000</td>\n",
       "      <td>1.00</td>\n",
       "    </tr>\n",
       "  </tbody>\n",
       "</table>\n",
       "</div>"
      ],
      "text/plain": [
       "                      count           mean           std     min       25%  \\\n",
       "CreditScore         10000.0     650.528800     96.653299  350.00    584.00   \n",
       "Age                 10000.0      38.921800     10.487806   18.00     32.00   \n",
       "Tenure              10000.0       5.012800      2.892174    0.00      3.00   \n",
       "Balance             10000.0   76485.889288  62397.405202    0.00      0.00   \n",
       "NumOfProducts       10000.0       1.530200      0.581654    1.00      1.00   \n",
       "HasCrCard           10000.0       0.705500      0.455840    0.00      0.00   \n",
       "IsActiveMember      10000.0       0.515100      0.499797    0.00      0.00   \n",
       "EstimatedSalary     10000.0  100090.239881  57510.492818   11.58  51002.11   \n",
       "Satisfaction Score  10000.0       3.013800      1.405919    1.00      2.00   \n",
       "Point Earned        10000.0     606.515100    225.924839  119.00    410.00   \n",
       "Female              10000.0       0.454300      0.497932    0.00      0.00   \n",
       "Male                10000.0       0.545700      0.497932    0.00      0.00   \n",
       "France              10000.0       0.501400      0.500023    0.00      0.00   \n",
       "Germany             10000.0       0.250900      0.433553    0.00      0.00   \n",
       "Spain               10000.0       0.247700      0.431698    0.00      0.00   \n",
       "Complain            10000.0       0.204400      0.403283    0.00      0.00   \n",
       "\n",
       "                           50%          75%        max  \n",
       "CreditScore            652.000     718.0000     850.00  \n",
       "Age                     37.000      44.0000      92.00  \n",
       "Tenure                   5.000       7.0000      10.00  \n",
       "Balance              97198.540  127644.2400  250898.09  \n",
       "NumOfProducts            1.000       2.0000       4.00  \n",
       "HasCrCard                1.000       1.0000       1.00  \n",
       "IsActiveMember           1.000       1.0000       1.00  \n",
       "EstimatedSalary     100193.915  149388.2475  199992.48  \n",
       "Satisfaction Score       3.000       4.0000       5.00  \n",
       "Point Earned           605.000     801.0000    1000.00  \n",
       "Female                   0.000       1.0000       1.00  \n",
       "Male                     1.000       1.0000       1.00  \n",
       "France                   1.000       1.0000       1.00  \n",
       "Germany                  0.000       1.0000       1.00  \n",
       "Spain                    0.000       0.0000       1.00  \n",
       "Complain                 0.000       0.0000       1.00  "
      ]
     },
     "execution_count": 37,
     "metadata": {},
     "output_type": "execute_result"
    }
   ],
   "source": [
    "data[features].describe().T"
   ]
  },
  {
   "cell_type": "markdown",
   "id": "1847d5a8",
   "metadata": {},
   "source": [
    "We want to transform feature(s) that have high values and normalise them for our models. This will make our models interpret all features with similar weights."
   ]
  },
  {
   "cell_type": "code",
   "execution_count": 165,
   "id": "f60a3a47",
   "metadata": {},
   "outputs": [],
   "source": [
    "def engineer(df):\n",
    "    data = df.copy()\n",
    "    high_values = ['Tenure','CreditScore', 'Balance', 'EstimatedSalary', 'Point Earned']\n",
    "    \n",
    "    data['zero_balance'] = data['Balance']==0\n",
    "    data['female_male_ratio'] = data.Female.sum() / data.Male.sum()\n",
    "    \n",
    "    for col in high_values:\n",
    "        data[col] = normalize(np.array(data[col]).reshape(1,-1)).reshape(-1,1)\n",
    "\n",
    "    data['tenure_balance_ratio'] = np.where(data.zero_balance==False, data.Tenure/data.Balance, 0)\n",
    "    data['salary_balance_ratio'] = np.where(data.zero_balance==False, data.EstimatedSalary/data.Balance, 0)\n",
    "    data['high_balance_low_salary'] = np.where(data.salary_balance_ratio==0, 1, 0)\n",
    "    data['high_salary_low_balance'] = np.where(data.salary_balance_ratio>=1, 1, 0)\n",
    "    enc = LabelEncoder()\n",
    "    data['Card Type'] = enc.fit_transform(data['Card Type'])\n",
    "#     data['complain_score'] = np.where(data['Complain']==1, \n",
    "#                                       data.loc[data['Complain']==1,'Satisfaction Score'].mean(),\n",
    "#                                       0)\n",
    "#     data['complain_score'] = np.where(data['complain_score']==0, \n",
    "#                                       data.loc[data['Complain']==0,'Satisfaction Score'].mean(),\n",
    "#                                       data['complain_score'])\n",
    "    \n",
    "    return data"
   ]
  },
  {
   "cell_type": "code",
   "execution_count": 166,
   "id": "32dc965d",
   "metadata": {},
   "outputs": [
    {
     "data": {
      "text/html": [
       "<div>\n",
       "<style scoped>\n",
       "    .dataframe tbody tr th:only-of-type {\n",
       "        vertical-align: middle;\n",
       "    }\n",
       "\n",
       "    .dataframe tbody tr th {\n",
       "        vertical-align: top;\n",
       "    }\n",
       "\n",
       "    .dataframe thead th {\n",
       "        text-align: right;\n",
       "    }\n",
       "</style>\n",
       "<table border=\"1\" class=\"dataframe\">\n",
       "  <thead>\n",
       "    <tr style=\"text-align: right;\">\n",
       "      <th></th>\n",
       "      <th>CustomerId</th>\n",
       "      <th>Surname</th>\n",
       "      <th>CreditScore</th>\n",
       "      <th>Age</th>\n",
       "      <th>Tenure</th>\n",
       "      <th>Balance</th>\n",
       "      <th>NumOfProducts</th>\n",
       "      <th>HasCrCard</th>\n",
       "      <th>IsActiveMember</th>\n",
       "      <th>EstimatedSalary</th>\n",
       "      <th>...</th>\n",
       "      <th>Male</th>\n",
       "      <th>France</th>\n",
       "      <th>Germany</th>\n",
       "      <th>Spain</th>\n",
       "      <th>zero_balance</th>\n",
       "      <th>female_male_ratio</th>\n",
       "      <th>tenure_balance_ratio</th>\n",
       "      <th>salary_balance_ratio</th>\n",
       "      <th>high_balance_low_salary</th>\n",
       "      <th>high_salary_low_balance</th>\n",
       "    </tr>\n",
       "  </thead>\n",
       "  <tbody>\n",
       "    <tr>\n",
       "      <th>0</th>\n",
       "      <td>15634602</td>\n",
       "      <td>Hargrave</td>\n",
       "      <td>0.009412</td>\n",
       "      <td>42</td>\n",
       "      <td>0.003456</td>\n",
       "      <td>0.000000</td>\n",
       "      <td>1</td>\n",
       "      <td>1</td>\n",
       "      <td>1</td>\n",
       "      <td>0.008780</td>\n",
       "      <td>...</td>\n",
       "      <td>0</td>\n",
       "      <td>1</td>\n",
       "      <td>0</td>\n",
       "      <td>0</td>\n",
       "      <td>True</td>\n",
       "      <td>0.832509</td>\n",
       "      <td>0.000000</td>\n",
       "      <td>0.000000</td>\n",
       "      <td>1</td>\n",
       "      <td>0</td>\n",
       "    </tr>\n",
       "    <tr>\n",
       "      <th>1</th>\n",
       "      <td>15647311</td>\n",
       "      <td>Hill</td>\n",
       "      <td>0.009245</td>\n",
       "      <td>41</td>\n",
       "      <td>0.001728</td>\n",
       "      <td>0.008491</td>\n",
       "      <td>1</td>\n",
       "      <td>0</td>\n",
       "      <td>1</td>\n",
       "      <td>0.009749</td>\n",
       "      <td>...</td>\n",
       "      <td>0</td>\n",
       "      <td>0</td>\n",
       "      <td>0</td>\n",
       "      <td>1</td>\n",
       "      <td>False</td>\n",
       "      <td>0.832509</td>\n",
       "      <td>0.203514</td>\n",
       "      <td>1.148273</td>\n",
       "      <td>0</td>\n",
       "      <td>1</td>\n",
       "    </tr>\n",
       "    <tr>\n",
       "      <th>2</th>\n",
       "      <td>15619304</td>\n",
       "      <td>Onio</td>\n",
       "      <td>0.007633</td>\n",
       "      <td>42</td>\n",
       "      <td>0.013824</td>\n",
       "      <td>0.016175</td>\n",
       "      <td>3</td>\n",
       "      <td>1</td>\n",
       "      <td>0</td>\n",
       "      <td>0.009870</td>\n",
       "      <td>...</td>\n",
       "      <td>0</td>\n",
       "      <td>1</td>\n",
       "      <td>0</td>\n",
       "      <td>0</td>\n",
       "      <td>False</td>\n",
       "      <td>0.832509</td>\n",
       "      <td>0.854615</td>\n",
       "      <td>0.610181</td>\n",
       "      <td>0</td>\n",
       "      <td>0</td>\n",
       "    </tr>\n",
       "    <tr>\n",
       "      <th>3</th>\n",
       "      <td>15701354</td>\n",
       "      <td>Boni</td>\n",
       "      <td>0.010628</td>\n",
       "      <td>39</td>\n",
       "      <td>0.001728</td>\n",
       "      <td>0.000000</td>\n",
       "      <td>2</td>\n",
       "      <td>0</td>\n",
       "      <td>0</td>\n",
       "      <td>0.008128</td>\n",
       "      <td>...</td>\n",
       "      <td>0</td>\n",
       "      <td>1</td>\n",
       "      <td>0</td>\n",
       "      <td>0</td>\n",
       "      <td>True</td>\n",
       "      <td>0.832509</td>\n",
       "      <td>0.000000</td>\n",
       "      <td>0.000000</td>\n",
       "      <td>1</td>\n",
       "      <td>0</td>\n",
       "    </tr>\n",
       "    <tr>\n",
       "      <th>4</th>\n",
       "      <td>15737888</td>\n",
       "      <td>Mitchell</td>\n",
       "      <td>0.012924</td>\n",
       "      <td>43</td>\n",
       "      <td>0.003456</td>\n",
       "      <td>0.012715</td>\n",
       "      <td>1</td>\n",
       "      <td>1</td>\n",
       "      <td>1</td>\n",
       "      <td>0.006851</td>\n",
       "      <td>...</td>\n",
       "      <td>0</td>\n",
       "      <td>0</td>\n",
       "      <td>0</td>\n",
       "      <td>1</td>\n",
       "      <td>False</td>\n",
       "      <td>0.832509</td>\n",
       "      <td>0.271786</td>\n",
       "      <td>0.538792</td>\n",
       "      <td>0</td>\n",
       "      <td>0</td>\n",
       "    </tr>\n",
       "  </tbody>\n",
       "</table>\n",
       "<p>5 rows × 26 columns</p>\n",
       "</div>"
      ],
      "text/plain": [
       "   CustomerId   Surname  CreditScore  Age    Tenure   Balance  NumOfProducts  \\\n",
       "0    15634602  Hargrave     0.009412   42  0.003456  0.000000              1   \n",
       "1    15647311      Hill     0.009245   41  0.001728  0.008491              1   \n",
       "2    15619304      Onio     0.007633   42  0.013824  0.016175              3   \n",
       "3    15701354      Boni     0.010628   39  0.001728  0.000000              2   \n",
       "4    15737888  Mitchell     0.012924   43  0.003456  0.012715              1   \n",
       "\n",
       "   HasCrCard  IsActiveMember  EstimatedSalary  ...  Male  France  Germany  \\\n",
       "0          1               1         0.008780  ...     0       1        0   \n",
       "1          0               1         0.009749  ...     0       0        0   \n",
       "2          1               0         0.009870  ...     0       1        0   \n",
       "3          0               0         0.008128  ...     0       1        0   \n",
       "4          1               1         0.006851  ...     0       0        0   \n",
       "\n",
       "   Spain  zero_balance  female_male_ratio  tenure_balance_ratio  \\\n",
       "0      0          True           0.832509              0.000000   \n",
       "1      1         False           0.832509              0.203514   \n",
       "2      0         False           0.832509              0.854615   \n",
       "3      0          True           0.832509              0.000000   \n",
       "4      1         False           0.832509              0.271786   \n",
       "\n",
       "   salary_balance_ratio  high_balance_low_salary  high_salary_low_balance  \n",
       "0              0.000000                        1                        0  \n",
       "1              1.148273                        0                        1  \n",
       "2              0.610181                        0                        0  \n",
       "3              0.000000                        1                        0  \n",
       "4              0.538792                        0                        0  \n",
       "\n",
       "[5 rows x 26 columns]"
      ]
     },
     "execution_count": 166,
     "metadata": {},
     "output_type": "execute_result"
    }
   ],
   "source": [
    "eng_data = engineer(data)\n",
    "eng_data.head()"
   ]
  },
  {
   "cell_type": "code",
   "execution_count": 168,
   "id": "9068e756",
   "metadata": {
    "scrolled": true
   },
   "outputs": [
    {
     "data": {
      "text/html": [
       "<div>\n",
       "<style scoped>\n",
       "    .dataframe tbody tr th:only-of-type {\n",
       "        vertical-align: middle;\n",
       "    }\n",
       "\n",
       "    .dataframe tbody tr th {\n",
       "        vertical-align: top;\n",
       "    }\n",
       "\n",
       "    .dataframe thead th {\n",
       "        text-align: right;\n",
       "    }\n",
       "</style>\n",
       "<table border=\"1\" class=\"dataframe\">\n",
       "  <thead>\n",
       "    <tr style=\"text-align: right;\">\n",
       "      <th></th>\n",
       "      <th>count</th>\n",
       "      <th>mean</th>\n",
       "      <th>std</th>\n",
       "      <th>min</th>\n",
       "      <th>25%</th>\n",
       "      <th>50%</th>\n",
       "      <th>75%</th>\n",
       "      <th>max</th>\n",
       "    </tr>\n",
       "  </thead>\n",
       "  <tbody>\n",
       "    <tr>\n",
       "      <th>CustomerId</th>\n",
       "      <td>10000.0</td>\n",
       "      <td>1.569094e+07</td>\n",
       "      <td>7.193619e+04</td>\n",
       "      <td>1.556570e+07</td>\n",
       "      <td>1.562853e+07</td>\n",
       "      <td>1.569074e+07</td>\n",
       "      <td>1.575323e+07</td>\n",
       "      <td>1.581569e+07</td>\n",
       "    </tr>\n",
       "    <tr>\n",
       "      <th>CreditScore</th>\n",
       "      <td>10000.0</td>\n",
       "      <td>9.891430e-03</td>\n",
       "      <td>1.469634e-03</td>\n",
       "      <td>5.321825e-03</td>\n",
       "      <td>8.879845e-03</td>\n",
       "      <td>9.913800e-03</td>\n",
       "      <td>1.091734e-02</td>\n",
       "      <td>1.292443e-02</td>\n",
       "    </tr>\n",
       "    <tr>\n",
       "      <th>Age</th>\n",
       "      <td>10000.0</td>\n",
       "      <td>3.892180e+01</td>\n",
       "      <td>1.048781e+01</td>\n",
       "      <td>1.800000e+01</td>\n",
       "      <td>3.200000e+01</td>\n",
       "      <td>3.700000e+01</td>\n",
       "      <td>4.400000e+01</td>\n",
       "      <td>9.200000e+01</td>\n",
       "    </tr>\n",
       "    <tr>\n",
       "      <th>Tenure</th>\n",
       "      <td>10000.0</td>\n",
       "      <td>8.661834e-03</td>\n",
       "      <td>4.997513e-03</td>\n",
       "      <td>0.000000e+00</td>\n",
       "      <td>5.183830e-03</td>\n",
       "      <td>8.639716e-03</td>\n",
       "      <td>1.209560e-02</td>\n",
       "      <td>1.727943e-02</td>\n",
       "    </tr>\n",
       "    <tr>\n",
       "      <th>Balance</th>\n",
       "      <td>10000.0</td>\n",
       "      <td>7.748754e-03</td>\n",
       "      <td>6.321456e-03</td>\n",
       "      <td>0.000000e+00</td>\n",
       "      <td>0.000000e+00</td>\n",
       "      <td>9.847145e-03</td>\n",
       "      <td>1.293159e-02</td>\n",
       "      <td>2.541838e-02</td>\n",
       "    </tr>\n",
       "    <tr>\n",
       "      <th>NumOfProducts</th>\n",
       "      <td>10000.0</td>\n",
       "      <td>1.530200e+00</td>\n",
       "      <td>5.816544e-01</td>\n",
       "      <td>1.000000e+00</td>\n",
       "      <td>1.000000e+00</td>\n",
       "      <td>1.000000e+00</td>\n",
       "      <td>2.000000e+00</td>\n",
       "      <td>4.000000e+00</td>\n",
       "    </tr>\n",
       "    <tr>\n",
       "      <th>HasCrCard</th>\n",
       "      <td>10000.0</td>\n",
       "      <td>7.055000e-01</td>\n",
       "      <td>4.558405e-01</td>\n",
       "      <td>0.000000e+00</td>\n",
       "      <td>0.000000e+00</td>\n",
       "      <td>1.000000e+00</td>\n",
       "      <td>1.000000e+00</td>\n",
       "      <td>1.000000e+00</td>\n",
       "    </tr>\n",
       "    <tr>\n",
       "      <th>IsActiveMember</th>\n",
       "      <td>10000.0</td>\n",
       "      <td>5.151000e-01</td>\n",
       "      <td>4.997969e-01</td>\n",
       "      <td>0.000000e+00</td>\n",
       "      <td>0.000000e+00</td>\n",
       "      <td>1.000000e+00</td>\n",
       "      <td>1.000000e+00</td>\n",
       "      <td>1.000000e+00</td>\n",
       "    </tr>\n",
       "    <tr>\n",
       "      <th>EstimatedSalary</th>\n",
       "      <td>10000.0</td>\n",
       "      <td>8.670720e-03</td>\n",
       "      <td>4.982078e-03</td>\n",
       "      <td>1.003164e-06</td>\n",
       "      <td>4.418263e-03</td>\n",
       "      <td>8.679701e-03</td>\n",
       "      <td>1.294136e-02</td>\n",
       "      <td>1.732515e-02</td>\n",
       "    </tr>\n",
       "    <tr>\n",
       "      <th>Exited</th>\n",
       "      <td>10000.0</td>\n",
       "      <td>2.038000e-01</td>\n",
       "      <td>4.028421e-01</td>\n",
       "      <td>0.000000e+00</td>\n",
       "      <td>0.000000e+00</td>\n",
       "      <td>0.000000e+00</td>\n",
       "      <td>0.000000e+00</td>\n",
       "      <td>1.000000e+00</td>\n",
       "    </tr>\n",
       "    <tr>\n",
       "      <th>Complain</th>\n",
       "      <td>10000.0</td>\n",
       "      <td>2.044000e-01</td>\n",
       "      <td>4.032827e-01</td>\n",
       "      <td>0.000000e+00</td>\n",
       "      <td>0.000000e+00</td>\n",
       "      <td>0.000000e+00</td>\n",
       "      <td>0.000000e+00</td>\n",
       "      <td>1.000000e+00</td>\n",
       "    </tr>\n",
       "    <tr>\n",
       "      <th>Satisfaction Score</th>\n",
       "      <td>10000.0</td>\n",
       "      <td>3.013800e+00</td>\n",
       "      <td>1.405919e+00</td>\n",
       "      <td>1.000000e+00</td>\n",
       "      <td>2.000000e+00</td>\n",
       "      <td>3.000000e+00</td>\n",
       "      <td>4.000000e+00</td>\n",
       "      <td>5.000000e+00</td>\n",
       "    </tr>\n",
       "    <tr>\n",
       "      <th>Card Type</th>\n",
       "      <td>10000.0</td>\n",
       "      <td>1.498000e+00</td>\n",
       "      <td>1.118356e+00</td>\n",
       "      <td>0.000000e+00</td>\n",
       "      <td>0.000000e+00</td>\n",
       "      <td>1.000000e+00</td>\n",
       "      <td>2.000000e+00</td>\n",
       "      <td>3.000000e+00</td>\n",
       "    </tr>\n",
       "    <tr>\n",
       "      <th>Point Earned</th>\n",
       "      <td>10000.0</td>\n",
       "      <td>9.371039e-03</td>\n",
       "      <td>3.490681e-03</td>\n",
       "      <td>1.838625e-03</td>\n",
       "      <td>6.334757e-03</td>\n",
       "      <td>9.347630e-03</td>\n",
       "      <td>1.237595e-02</td>\n",
       "      <td>1.545063e-02</td>\n",
       "    </tr>\n",
       "    <tr>\n",
       "      <th>Female</th>\n",
       "      <td>10000.0</td>\n",
       "      <td>4.543000e-01</td>\n",
       "      <td>4.979320e-01</td>\n",
       "      <td>0.000000e+00</td>\n",
       "      <td>0.000000e+00</td>\n",
       "      <td>0.000000e+00</td>\n",
       "      <td>1.000000e+00</td>\n",
       "      <td>1.000000e+00</td>\n",
       "    </tr>\n",
       "    <tr>\n",
       "      <th>Male</th>\n",
       "      <td>10000.0</td>\n",
       "      <td>5.457000e-01</td>\n",
       "      <td>4.979320e-01</td>\n",
       "      <td>0.000000e+00</td>\n",
       "      <td>0.000000e+00</td>\n",
       "      <td>1.000000e+00</td>\n",
       "      <td>1.000000e+00</td>\n",
       "      <td>1.000000e+00</td>\n",
       "    </tr>\n",
       "    <tr>\n",
       "      <th>France</th>\n",
       "      <td>10000.0</td>\n",
       "      <td>5.014000e-01</td>\n",
       "      <td>5.000230e-01</td>\n",
       "      <td>0.000000e+00</td>\n",
       "      <td>0.000000e+00</td>\n",
       "      <td>1.000000e+00</td>\n",
       "      <td>1.000000e+00</td>\n",
       "      <td>1.000000e+00</td>\n",
       "    </tr>\n",
       "    <tr>\n",
       "      <th>Germany</th>\n",
       "      <td>10000.0</td>\n",
       "      <td>2.509000e-01</td>\n",
       "      <td>4.335527e-01</td>\n",
       "      <td>0.000000e+00</td>\n",
       "      <td>0.000000e+00</td>\n",
       "      <td>0.000000e+00</td>\n",
       "      <td>1.000000e+00</td>\n",
       "      <td>1.000000e+00</td>\n",
       "    </tr>\n",
       "    <tr>\n",
       "      <th>Spain</th>\n",
       "      <td>10000.0</td>\n",
       "      <td>2.477000e-01</td>\n",
       "      <td>4.316982e-01</td>\n",
       "      <td>0.000000e+00</td>\n",
       "      <td>0.000000e+00</td>\n",
       "      <td>0.000000e+00</td>\n",
       "      <td>0.000000e+00</td>\n",
       "      <td>1.000000e+00</td>\n",
       "    </tr>\n",
       "    <tr>\n",
       "      <th>female_male_ratio</th>\n",
       "      <td>10000.0</td>\n",
       "      <td>8.325087e-01</td>\n",
       "      <td>2.116191e-13</td>\n",
       "      <td>8.325087e-01</td>\n",
       "      <td>8.325087e-01</td>\n",
       "      <td>8.325087e-01</td>\n",
       "      <td>8.325087e-01</td>\n",
       "      <td>8.325087e-01</td>\n",
       "    </tr>\n",
       "    <tr>\n",
       "      <th>tenure_balance_ratio</th>\n",
       "      <td>10000.0</td>\n",
       "      <td>4.892430e-01</td>\n",
       "      <td>5.755533e-01</td>\n",
       "      <td>0.000000e+00</td>\n",
       "      <td>0.000000e+00</td>\n",
       "      <td>3.027190e-01</td>\n",
       "      <td>8.620636e-01</td>\n",
       "      <td>9.566742e+00</td>\n",
       "    </tr>\n",
       "    <tr>\n",
       "      <th>salary_balance_ratio</th>\n",
       "      <td>10000.0</td>\n",
       "      <td>5.007213e-01</td>\n",
       "      <td>7.014547e-01</td>\n",
       "      <td>0.000000e+00</td>\n",
       "      <td>0.000000e+00</td>\n",
       "      <td>3.186064e-01</td>\n",
       "      <td>8.764975e-01</td>\n",
       "      <td>4.017499e+01</td>\n",
       "    </tr>\n",
       "    <tr>\n",
       "      <th>high_balance_low_salary</th>\n",
       "      <td>10000.0</td>\n",
       "      <td>3.617000e-01</td>\n",
       "      <td>4.805166e-01</td>\n",
       "      <td>0.000000e+00</td>\n",
       "      <td>0.000000e+00</td>\n",
       "      <td>0.000000e+00</td>\n",
       "      <td>1.000000e+00</td>\n",
       "      <td>1.000000e+00</td>\n",
       "    </tr>\n",
       "    <tr>\n",
       "      <th>high_salary_low_balance</th>\n",
       "      <td>10000.0</td>\n",
       "      <td>1.951000e-01</td>\n",
       "      <td>3.962975e-01</td>\n",
       "      <td>0.000000e+00</td>\n",
       "      <td>0.000000e+00</td>\n",
       "      <td>0.000000e+00</td>\n",
       "      <td>0.000000e+00</td>\n",
       "      <td>1.000000e+00</td>\n",
       "    </tr>\n",
       "  </tbody>\n",
       "</table>\n",
       "</div>"
      ],
      "text/plain": [
       "                           count          mean           std           min  \\\n",
       "CustomerId               10000.0  1.569094e+07  7.193619e+04  1.556570e+07   \n",
       "CreditScore              10000.0  9.891430e-03  1.469634e-03  5.321825e-03   \n",
       "Age                      10000.0  3.892180e+01  1.048781e+01  1.800000e+01   \n",
       "Tenure                   10000.0  8.661834e-03  4.997513e-03  0.000000e+00   \n",
       "Balance                  10000.0  7.748754e-03  6.321456e-03  0.000000e+00   \n",
       "NumOfProducts            10000.0  1.530200e+00  5.816544e-01  1.000000e+00   \n",
       "HasCrCard                10000.0  7.055000e-01  4.558405e-01  0.000000e+00   \n",
       "IsActiveMember           10000.0  5.151000e-01  4.997969e-01  0.000000e+00   \n",
       "EstimatedSalary          10000.0  8.670720e-03  4.982078e-03  1.003164e-06   \n",
       "Exited                   10000.0  2.038000e-01  4.028421e-01  0.000000e+00   \n",
       "Complain                 10000.0  2.044000e-01  4.032827e-01  0.000000e+00   \n",
       "Satisfaction Score       10000.0  3.013800e+00  1.405919e+00  1.000000e+00   \n",
       "Card Type                10000.0  1.498000e+00  1.118356e+00  0.000000e+00   \n",
       "Point Earned             10000.0  9.371039e-03  3.490681e-03  1.838625e-03   \n",
       "Female                   10000.0  4.543000e-01  4.979320e-01  0.000000e+00   \n",
       "Male                     10000.0  5.457000e-01  4.979320e-01  0.000000e+00   \n",
       "France                   10000.0  5.014000e-01  5.000230e-01  0.000000e+00   \n",
       "Germany                  10000.0  2.509000e-01  4.335527e-01  0.000000e+00   \n",
       "Spain                    10000.0  2.477000e-01  4.316982e-01  0.000000e+00   \n",
       "female_male_ratio        10000.0  8.325087e-01  2.116191e-13  8.325087e-01   \n",
       "tenure_balance_ratio     10000.0  4.892430e-01  5.755533e-01  0.000000e+00   \n",
       "salary_balance_ratio     10000.0  5.007213e-01  7.014547e-01  0.000000e+00   \n",
       "high_balance_low_salary  10000.0  3.617000e-01  4.805166e-01  0.000000e+00   \n",
       "high_salary_low_balance  10000.0  1.951000e-01  3.962975e-01  0.000000e+00   \n",
       "\n",
       "                                  25%           50%           75%  \\\n",
       "CustomerId               1.562853e+07  1.569074e+07  1.575323e+07   \n",
       "CreditScore              8.879845e-03  9.913800e-03  1.091734e-02   \n",
       "Age                      3.200000e+01  3.700000e+01  4.400000e+01   \n",
       "Tenure                   5.183830e-03  8.639716e-03  1.209560e-02   \n",
       "Balance                  0.000000e+00  9.847145e-03  1.293159e-02   \n",
       "NumOfProducts            1.000000e+00  1.000000e+00  2.000000e+00   \n",
       "HasCrCard                0.000000e+00  1.000000e+00  1.000000e+00   \n",
       "IsActiveMember           0.000000e+00  1.000000e+00  1.000000e+00   \n",
       "EstimatedSalary          4.418263e-03  8.679701e-03  1.294136e-02   \n",
       "Exited                   0.000000e+00  0.000000e+00  0.000000e+00   \n",
       "Complain                 0.000000e+00  0.000000e+00  0.000000e+00   \n",
       "Satisfaction Score       2.000000e+00  3.000000e+00  4.000000e+00   \n",
       "Card Type                0.000000e+00  1.000000e+00  2.000000e+00   \n",
       "Point Earned             6.334757e-03  9.347630e-03  1.237595e-02   \n",
       "Female                   0.000000e+00  0.000000e+00  1.000000e+00   \n",
       "Male                     0.000000e+00  1.000000e+00  1.000000e+00   \n",
       "France                   0.000000e+00  1.000000e+00  1.000000e+00   \n",
       "Germany                  0.000000e+00  0.000000e+00  1.000000e+00   \n",
       "Spain                    0.000000e+00  0.000000e+00  0.000000e+00   \n",
       "female_male_ratio        8.325087e-01  8.325087e-01  8.325087e-01   \n",
       "tenure_balance_ratio     0.000000e+00  3.027190e-01  8.620636e-01   \n",
       "salary_balance_ratio     0.000000e+00  3.186064e-01  8.764975e-01   \n",
       "high_balance_low_salary  0.000000e+00  0.000000e+00  1.000000e+00   \n",
       "high_salary_low_balance  0.000000e+00  0.000000e+00  0.000000e+00   \n",
       "\n",
       "                                  max  \n",
       "CustomerId               1.581569e+07  \n",
       "CreditScore              1.292443e-02  \n",
       "Age                      9.200000e+01  \n",
       "Tenure                   1.727943e-02  \n",
       "Balance                  2.541838e-02  \n",
       "NumOfProducts            4.000000e+00  \n",
       "HasCrCard                1.000000e+00  \n",
       "IsActiveMember           1.000000e+00  \n",
       "EstimatedSalary          1.732515e-02  \n",
       "Exited                   1.000000e+00  \n",
       "Complain                 1.000000e+00  \n",
       "Satisfaction Score       5.000000e+00  \n",
       "Card Type                3.000000e+00  \n",
       "Point Earned             1.545063e-02  \n",
       "Female                   1.000000e+00  \n",
       "Male                     1.000000e+00  \n",
       "France                   1.000000e+00  \n",
       "Germany                  1.000000e+00  \n",
       "Spain                    1.000000e+00  \n",
       "female_male_ratio        8.325087e-01  \n",
       "tenure_balance_ratio     9.566742e+00  \n",
       "salary_balance_ratio     4.017499e+01  \n",
       "high_balance_low_salary  1.000000e+00  \n",
       "high_salary_low_balance  1.000000e+00  "
      ]
     },
     "execution_count": 168,
     "metadata": {},
     "output_type": "execute_result"
    }
   ],
   "source": [
    "eng_data.describe().T"
   ]
  },
  {
   "cell_type": "markdown",
   "id": "0a499f23",
   "metadata": {},
   "source": [
    "# Splitting Data"
   ]
  },
  {
   "cell_type": "code",
   "execution_count": 183,
   "id": "67bad2c8",
   "metadata": {},
   "outputs": [],
   "source": [
    "from sklearn.model_selection import train_test_split, cross_val_score, GridSearchCV, StratifiedKFold\n",
    "\n",
    "train, test = train_test_split(eng_data, test_size=0.2,random_state=42)"
   ]
  },
  {
   "cell_type": "code",
   "execution_count": 184,
   "id": "2852000d",
   "metadata": {},
   "outputs": [],
   "source": [
    "features = eng_data.drop(['CustomerId','Surname','Exited'], axis=1).columns.to_list()\n",
    "target = 'Exited'"
   ]
  },
  {
   "cell_type": "code",
   "execution_count": 185,
   "id": "49867735",
   "metadata": {},
   "outputs": [],
   "source": [
    "X_train = train[features].astype('float')\n",
    "y_train = train[target].astype('float')\n",
    "X_test = test[features].astype('float')\n",
    "y_test = test[target].astype('float')"
   ]
  },
  {
   "cell_type": "code",
   "execution_count": 186,
   "id": "151f7109",
   "metadata": {},
   "outputs": [
    {
     "data": {
      "text/html": [
       "<div>\n",
       "<style scoped>\n",
       "    .dataframe tbody tr th:only-of-type {\n",
       "        vertical-align: middle;\n",
       "    }\n",
       "\n",
       "    .dataframe tbody tr th {\n",
       "        vertical-align: top;\n",
       "    }\n",
       "\n",
       "    .dataframe thead th {\n",
       "        text-align: right;\n",
       "    }\n",
       "</style>\n",
       "<table border=\"1\" class=\"dataframe\">\n",
       "  <thead>\n",
       "    <tr style=\"text-align: right;\">\n",
       "      <th></th>\n",
       "      <th>CreditScore</th>\n",
       "      <th>Age</th>\n",
       "      <th>Tenure</th>\n",
       "      <th>Balance</th>\n",
       "      <th>NumOfProducts</th>\n",
       "      <th>HasCrCard</th>\n",
       "      <th>IsActiveMember</th>\n",
       "      <th>EstimatedSalary</th>\n",
       "      <th>Complain</th>\n",
       "      <th>Satisfaction Score</th>\n",
       "      <th>...</th>\n",
       "      <th>Male</th>\n",
       "      <th>France</th>\n",
       "      <th>Germany</th>\n",
       "      <th>Spain</th>\n",
       "      <th>zero_balance</th>\n",
       "      <th>female_male_ratio</th>\n",
       "      <th>tenure_balance_ratio</th>\n",
       "      <th>salary_balance_ratio</th>\n",
       "      <th>high_balance_low_salary</th>\n",
       "      <th>high_salary_low_balance</th>\n",
       "    </tr>\n",
       "  </thead>\n",
       "  <tbody>\n",
       "    <tr>\n",
       "      <th>9254</th>\n",
       "      <td>0.010431</td>\n",
       "      <td>32.0</td>\n",
       "      <td>0.010368</td>\n",
       "      <td>0.000000</td>\n",
       "      <td>2.0</td>\n",
       "      <td>1.0</td>\n",
       "      <td>1.0</td>\n",
       "      <td>0.015515</td>\n",
       "      <td>0.0</td>\n",
       "      <td>2.0</td>\n",
       "      <td>...</td>\n",
       "      <td>1.0</td>\n",
       "      <td>1.0</td>\n",
       "      <td>0.0</td>\n",
       "      <td>0.0</td>\n",
       "      <td>1.0</td>\n",
       "      <td>0.832509</td>\n",
       "      <td>0.000000</td>\n",
       "      <td>0.000000</td>\n",
       "      <td>1.0</td>\n",
       "      <td>0.0</td>\n",
       "    </tr>\n",
       "    <tr>\n",
       "      <th>1561</th>\n",
       "      <td>0.009610</td>\n",
       "      <td>42.0</td>\n",
       "      <td>0.006912</td>\n",
       "      <td>0.012119</td>\n",
       "      <td>2.0</td>\n",
       "      <td>1.0</td>\n",
       "      <td>1.0</td>\n",
       "      <td>0.016977</td>\n",
       "      <td>0.0</td>\n",
       "      <td>4.0</td>\n",
       "      <td>...</td>\n",
       "      <td>1.0</td>\n",
       "      <td>0.0</td>\n",
       "      <td>1.0</td>\n",
       "      <td>0.0</td>\n",
       "      <td>0.0</td>\n",
       "      <td>0.832509</td>\n",
       "      <td>0.570320</td>\n",
       "      <td>1.400882</td>\n",
       "      <td>0.0</td>\n",
       "      <td>1.0</td>\n",
       "    </tr>\n",
       "    <tr>\n",
       "      <th>1670</th>\n",
       "      <td>0.008500</td>\n",
       "      <td>24.0</td>\n",
       "      <td>0.005184</td>\n",
       "      <td>0.011624</td>\n",
       "      <td>1.0</td>\n",
       "      <td>1.0</td>\n",
       "      <td>0.0</td>\n",
       "      <td>0.007441</td>\n",
       "      <td>1.0</td>\n",
       "      <td>4.0</td>\n",
       "      <td>...</td>\n",
       "      <td>1.0</td>\n",
       "      <td>0.0</td>\n",
       "      <td>0.0</td>\n",
       "      <td>1.0</td>\n",
       "      <td>0.0</td>\n",
       "      <td>0.832509</td>\n",
       "      <td>0.445949</td>\n",
       "      <td>0.640097</td>\n",
       "      <td>0.0</td>\n",
       "      <td>0.0</td>\n",
       "    </tr>\n",
       "    <tr>\n",
       "      <th>6087</th>\n",
       "      <td>0.008530</td>\n",
       "      <td>27.0</td>\n",
       "      <td>0.015551</td>\n",
       "      <td>0.013741</td>\n",
       "      <td>1.0</td>\n",
       "      <td>1.0</td>\n",
       "      <td>0.0</td>\n",
       "      <td>0.013261</td>\n",
       "      <td>1.0</td>\n",
       "      <td>2.0</td>\n",
       "      <td>...</td>\n",
       "      <td>0.0</td>\n",
       "      <td>1.0</td>\n",
       "      <td>0.0</td>\n",
       "      <td>0.0</td>\n",
       "      <td>0.0</td>\n",
       "      <td>0.832509</td>\n",
       "      <td>1.131731</td>\n",
       "      <td>0.965060</td>\n",
       "      <td>0.0</td>\n",
       "      <td>0.0</td>\n",
       "    </tr>\n",
       "    <tr>\n",
       "      <th>6669</th>\n",
       "      <td>0.007861</td>\n",
       "      <td>56.0</td>\n",
       "      <td>0.015551</td>\n",
       "      <td>0.014401</td>\n",
       "      <td>1.0</td>\n",
       "      <td>0.0</td>\n",
       "      <td>0.0</td>\n",
       "      <td>0.003421</td>\n",
       "      <td>1.0</td>\n",
       "      <td>3.0</td>\n",
       "      <td>...</td>\n",
       "      <td>1.0</td>\n",
       "      <td>1.0</td>\n",
       "      <td>0.0</td>\n",
       "      <td>0.0</td>\n",
       "      <td>0.0</td>\n",
       "      <td>0.832509</td>\n",
       "      <td>1.079898</td>\n",
       "      <td>0.237542</td>\n",
       "      <td>0.0</td>\n",
       "      <td>0.0</td>\n",
       "    </tr>\n",
       "    <tr>\n",
       "      <th>...</th>\n",
       "      <td>...</td>\n",
       "      <td>...</td>\n",
       "      <td>...</td>\n",
       "      <td>...</td>\n",
       "      <td>...</td>\n",
       "      <td>...</td>\n",
       "      <td>...</td>\n",
       "      <td>...</td>\n",
       "      <td>...</td>\n",
       "      <td>...</td>\n",
       "      <td>...</td>\n",
       "      <td>...</td>\n",
       "      <td>...</td>\n",
       "      <td>...</td>\n",
       "      <td>...</td>\n",
       "      <td>...</td>\n",
       "      <td>...</td>\n",
       "      <td>...</td>\n",
       "      <td>...</td>\n",
       "      <td>...</td>\n",
       "      <td>...</td>\n",
       "    </tr>\n",
       "    <tr>\n",
       "      <th>5734</th>\n",
       "      <td>0.011678</td>\n",
       "      <td>54.0</td>\n",
       "      <td>0.013824</td>\n",
       "      <td>0.007063</td>\n",
       "      <td>1.0</td>\n",
       "      <td>1.0</td>\n",
       "      <td>1.0</td>\n",
       "      <td>0.006010</td>\n",
       "      <td>0.0</td>\n",
       "      <td>3.0</td>\n",
       "      <td>...</td>\n",
       "      <td>1.0</td>\n",
       "      <td>1.0</td>\n",
       "      <td>0.0</td>\n",
       "      <td>0.0</td>\n",
       "      <td>0.0</td>\n",
       "      <td>0.832509</td>\n",
       "      <td>1.957297</td>\n",
       "      <td>0.851024</td>\n",
       "      <td>0.0</td>\n",
       "      <td>0.0</td>\n",
       "    </tr>\n",
       "    <tr>\n",
       "      <th>5191</th>\n",
       "      <td>0.010370</td>\n",
       "      <td>58.0</td>\n",
       "      <td>0.001728</td>\n",
       "      <td>0.000000</td>\n",
       "      <td>1.0</td>\n",
       "      <td>1.0</td>\n",
       "      <td>1.0</td>\n",
       "      <td>0.000061</td>\n",
       "      <td>0.0</td>\n",
       "      <td>4.0</td>\n",
       "      <td>...</td>\n",
       "      <td>0.0</td>\n",
       "      <td>1.0</td>\n",
       "      <td>0.0</td>\n",
       "      <td>0.0</td>\n",
       "      <td>1.0</td>\n",
       "      <td>0.832509</td>\n",
       "      <td>0.000000</td>\n",
       "      <td>0.000000</td>\n",
       "      <td>1.0</td>\n",
       "      <td>0.0</td>\n",
       "    </tr>\n",
       "    <tr>\n",
       "      <th>5390</th>\n",
       "      <td>0.011176</td>\n",
       "      <td>38.0</td>\n",
       "      <td>0.001728</td>\n",
       "      <td>0.000000</td>\n",
       "      <td>3.0</td>\n",
       "      <td>0.0</td>\n",
       "      <td>0.0</td>\n",
       "      <td>0.007989</td>\n",
       "      <td>1.0</td>\n",
       "      <td>5.0</td>\n",
       "      <td>...</td>\n",
       "      <td>0.0</td>\n",
       "      <td>1.0</td>\n",
       "      <td>0.0</td>\n",
       "      <td>0.0</td>\n",
       "      <td>1.0</td>\n",
       "      <td>0.832509</td>\n",
       "      <td>0.000000</td>\n",
       "      <td>0.000000</td>\n",
       "      <td>1.0</td>\n",
       "      <td>0.0</td>\n",
       "    </tr>\n",
       "    <tr>\n",
       "      <th>860</th>\n",
       "      <td>0.010142</td>\n",
       "      <td>43.0</td>\n",
       "      <td>0.013824</td>\n",
       "      <td>0.019272</td>\n",
       "      <td>1.0</td>\n",
       "      <td>1.0</td>\n",
       "      <td>0.0</td>\n",
       "      <td>0.008447</td>\n",
       "      <td>1.0</td>\n",
       "      <td>3.0</td>\n",
       "      <td>...</td>\n",
       "      <td>1.0</td>\n",
       "      <td>1.0</td>\n",
       "      <td>0.0</td>\n",
       "      <td>0.0</td>\n",
       "      <td>0.0</td>\n",
       "      <td>0.832509</td>\n",
       "      <td>0.717291</td>\n",
       "      <td>0.438309</td>\n",
       "      <td>0.0</td>\n",
       "      <td>0.0</td>\n",
       "    </tr>\n",
       "    <tr>\n",
       "      <th>7270</th>\n",
       "      <td>0.010598</td>\n",
       "      <td>51.0</td>\n",
       "      <td>0.001728</td>\n",
       "      <td>0.014985</td>\n",
       "      <td>1.0</td>\n",
       "      <td>1.0</td>\n",
       "      <td>1.0</td>\n",
       "      <td>0.004642</td>\n",
       "      <td>0.0</td>\n",
       "      <td>4.0</td>\n",
       "      <td>...</td>\n",
       "      <td>1.0</td>\n",
       "      <td>0.0</td>\n",
       "      <td>1.0</td>\n",
       "      <td>0.0</td>\n",
       "      <td>0.0</td>\n",
       "      <td>0.832509</td>\n",
       "      <td>0.115314</td>\n",
       "      <td>0.309761</td>\n",
       "      <td>0.0</td>\n",
       "      <td>0.0</td>\n",
       "    </tr>\n",
       "  </tbody>\n",
       "</table>\n",
       "<p>8000 rows × 23 columns</p>\n",
       "</div>"
      ],
      "text/plain": [
       "      CreditScore   Age    Tenure   Balance  NumOfProducts  HasCrCard  \\\n",
       "9254     0.010431  32.0  0.010368  0.000000            2.0        1.0   \n",
       "1561     0.009610  42.0  0.006912  0.012119            2.0        1.0   \n",
       "1670     0.008500  24.0  0.005184  0.011624            1.0        1.0   \n",
       "6087     0.008530  27.0  0.015551  0.013741            1.0        1.0   \n",
       "6669     0.007861  56.0  0.015551  0.014401            1.0        0.0   \n",
       "...           ...   ...       ...       ...            ...        ...   \n",
       "5734     0.011678  54.0  0.013824  0.007063            1.0        1.0   \n",
       "5191     0.010370  58.0  0.001728  0.000000            1.0        1.0   \n",
       "5390     0.011176  38.0  0.001728  0.000000            3.0        0.0   \n",
       "860      0.010142  43.0  0.013824  0.019272            1.0        1.0   \n",
       "7270     0.010598  51.0  0.001728  0.014985            1.0        1.0   \n",
       "\n",
       "      IsActiveMember  EstimatedSalary  Complain  Satisfaction Score  ...  \\\n",
       "9254             1.0         0.015515       0.0                 2.0  ...   \n",
       "1561             1.0         0.016977       0.0                 4.0  ...   \n",
       "1670             0.0         0.007441       1.0                 4.0  ...   \n",
       "6087             0.0         0.013261       1.0                 2.0  ...   \n",
       "6669             0.0         0.003421       1.0                 3.0  ...   \n",
       "...              ...              ...       ...                 ...  ...   \n",
       "5734             1.0         0.006010       0.0                 3.0  ...   \n",
       "5191             1.0         0.000061       0.0                 4.0  ...   \n",
       "5390             0.0         0.007989       1.0                 5.0  ...   \n",
       "860              0.0         0.008447       1.0                 3.0  ...   \n",
       "7270             1.0         0.004642       0.0                 4.0  ...   \n",
       "\n",
       "      Male  France  Germany  Spain  zero_balance  female_male_ratio  \\\n",
       "9254   1.0     1.0      0.0    0.0           1.0           0.832509   \n",
       "1561   1.0     0.0      1.0    0.0           0.0           0.832509   \n",
       "1670   1.0     0.0      0.0    1.0           0.0           0.832509   \n",
       "6087   0.0     1.0      0.0    0.0           0.0           0.832509   \n",
       "6669   1.0     1.0      0.0    0.0           0.0           0.832509   \n",
       "...    ...     ...      ...    ...           ...                ...   \n",
       "5734   1.0     1.0      0.0    0.0           0.0           0.832509   \n",
       "5191   0.0     1.0      0.0    0.0           1.0           0.832509   \n",
       "5390   0.0     1.0      0.0    0.0           1.0           0.832509   \n",
       "860    1.0     1.0      0.0    0.0           0.0           0.832509   \n",
       "7270   1.0     0.0      1.0    0.0           0.0           0.832509   \n",
       "\n",
       "      tenure_balance_ratio  salary_balance_ratio  high_balance_low_salary  \\\n",
       "9254              0.000000              0.000000                      1.0   \n",
       "1561              0.570320              1.400882                      0.0   \n",
       "1670              0.445949              0.640097                      0.0   \n",
       "6087              1.131731              0.965060                      0.0   \n",
       "6669              1.079898              0.237542                      0.0   \n",
       "...                    ...                   ...                      ...   \n",
       "5734              1.957297              0.851024                      0.0   \n",
       "5191              0.000000              0.000000                      1.0   \n",
       "5390              0.000000              0.000000                      1.0   \n",
       "860               0.717291              0.438309                      0.0   \n",
       "7270              0.115314              0.309761                      0.0   \n",
       "\n",
       "      high_salary_low_balance  \n",
       "9254                      0.0  \n",
       "1561                      1.0  \n",
       "1670                      0.0  \n",
       "6087                      0.0  \n",
       "6669                      0.0  \n",
       "...                       ...  \n",
       "5734                      0.0  \n",
       "5191                      0.0  \n",
       "5390                      0.0  \n",
       "860                       0.0  \n",
       "7270                      0.0  \n",
       "\n",
       "[8000 rows x 23 columns]"
      ]
     },
     "execution_count": 186,
     "metadata": {},
     "output_type": "execute_result"
    }
   ],
   "source": [
    "X_train"
   ]
  },
  {
   "cell_type": "code",
   "execution_count": 187,
   "id": "4959b256",
   "metadata": {},
   "outputs": [
    {
     "name": "stdout",
     "output_type": "stream",
     "text": [
      "Number of training samples: 8000\n",
      "Number of test samples: 2000\n"
     ]
    }
   ],
   "source": [
    "print('Number of training samples:', X_train.shape[0])\n",
    "print('Number of test samples:', X_test.shape[0])"
   ]
  },
  {
   "cell_type": "markdown",
   "id": "79e34581",
   "metadata": {},
   "source": [
    "# Building Models"
   ]
  },
  {
   "cell_type": "code",
   "execution_count": 345,
   "id": "ffa3c8c9",
   "metadata": {},
   "outputs": [],
   "source": [
    "from sklearn.metrics import accuracy_score, confusion_matrix, classification_report, roc_auc_scor"
   ]
  },
  {
   "cell_type": "code",
   "execution_count": 319,
   "id": "b3af0035",
   "metadata": {},
   "outputs": [],
   "source": [
    "from sklearn.base import BaseEstimator, TransformerMixin\n",
    "\n",
    "class custom_scaler(BaseEstimator, TransformerMixin):\n",
    "    def __init__(self, variables=None, excludeComplain=None):\n",
    "        self.variables = variables\n",
    "        self.excludeComplain = excludeComplain\n",
    "        \n",
    "    def fit(self, X, y=None):\n",
    "        return self\n",
    "    \n",
    "    def transform(self, X):\n",
    "        scaler = StandardScaler()\n",
    "        num_cols = [col for col in X.columns if col not in self.variables]\n",
    "        if (self.excludeComplain) & ('Complain' in self.variables):\n",
    "            self.variables.remove('Complain')\n",
    "        X_scaled = pd.DataFrame(scaler.fit_transform(X[num_cols]), index=X.index,columns=num_cols)\n",
    "        X = pd.concat([X_scaled, X[self.variables]], axis=1)\n",
    "        return X"
   ]
  },
  {
   "cell_type": "code",
   "execution_count": 369,
   "id": "26fec19c",
   "metadata": {},
   "outputs": [],
   "source": [
    "def plot_cm(y_hat):\n",
    "    matrix = confusion_matrix(y_test,y_hat)\n",
    "    ax = sns.heatmap(matrix, annot=True, fmt='d', cmap='crest')\n",
    "    ax.set(title='Confusion Matrix', xlabel='Predicted values', ylabel='Actual Values',\n",
    "           xticklabels=['Did not churn', 'Churn'], yticklabels=['Did not churn', 'Churn'])\n",
    "    plt.show()"
   ]
  },
  {
   "cell_type": "code",
   "execution_count": 357,
   "id": "3a2f1511",
   "metadata": {},
   "outputs": [],
   "source": [
    "def build_model(model_name, parameters, excludeComplain=False):\n",
    "    cat_cols = ['HasCrCard', 'IsActiveMember', 'Complain', 'Card Type', 'Female', 'Male', \n",
    "            'France','Germany','Spain','zero_balance','high_balance_low_salary','high_salary_low_balance']\n",
    "#     if excludeComplain:\n",
    "#         cat_cols.remove('Complain')\n",
    "#     print(cat_cols)\n",
    "    scale_num_cols = custom_scaler(variables=cat_cols, excludeComplain=excludeComplain)\n",
    "    pipe = Pipeline([('scaler', scale_num_cols),('model',model_name)])\n",
    "    pipe_cv = GridSearchCV(pipe, param_grid=parameters, refit=True, verbose=1, scoring='roc_auc')\n",
    "    pipe_cv.fit(X_train,y_train)\n",
    "#     features = X_train.columns.to_list()\n",
    "#     if excludeComplain:\n",
    "#         features.remove('Complain')\n",
    "    return pipe_cv"
   ]
  },
  {
   "cell_type": "code",
   "execution_count": 372,
   "id": "240c5872",
   "metadata": {},
   "outputs": [],
   "source": [
    "def evaluate(model_name, excludeComplain=False):\n",
    "    features = X_test.columns.to_list()\n",
    "    if excludeComplain:\n",
    "        features.remove('Complain')\n",
    "    \n",
    "    print('The best parameters are:', model_name.best_params_) \n",
    "    yhat_train = model_name.predict(X_train[features])\n",
    "    yhat = model_name.predict(X_test[features])\n",
    "    train_acc = accuracy_score(yhat_train, y_train)\n",
    "    test_acc = accuracy_score(yhat, y_test)\n",
    "    pos_probs = model_name.predict_proba(X_test[features])[:,1]\n",
    "    roc_score = roc_auc_score(y_test, pos_probs)\n",
    "    print('The best score on training set is:', train_acc)\n",
    "    print('Accuracy on test set: ', test_acc)\n",
    "    print('ROC score: ', roc_score)\n",
    "    print('The classification scores are:')\n",
    "    print(classification_report(yhat, y_test))\n",
    "    scores['train_acc'].append(train_acc)\n",
    "    scores['test_acc'].append(test_acc)\n",
    "    scores['roc_auc'].append(roc_score)\n",
    "    plot_cm(yhat)"
   ]
  },
  {
   "cell_type": "markdown",
   "id": "a1ba599a",
   "metadata": {},
   "source": [
    "# Experiment with complain vs without complain as a feature"
   ]
  },
  {
   "cell_type": "code",
   "execution_count": 374,
   "id": "e99c510d",
   "metadata": {},
   "outputs": [],
   "source": [
    "# initialise score metrics\n",
    "scores = {'test_acc':[], 'train_acc':[], 'roc_auc':[]}"
   ]
  },
  {
   "cell_type": "markdown",
   "id": "df66f19d",
   "metadata": {},
   "source": [
    "## Logistic Regression"
   ]
  },
  {
   "cell_type": "markdown",
   "id": "f1aad1c7",
   "metadata": {},
   "source": [
    "### With Complain"
   ]
  },
  {
   "cell_type": "code",
   "execution_count": 370,
   "id": "e59f4cc5",
   "metadata": {},
   "outputs": [
    {
     "name": "stdout",
     "output_type": "stream",
     "text": [
      "Fitting 5 folds for each of 6 candidates, totalling 30 fits\n"
     ]
    }
   ],
   "source": [
    "parameters = {'model__C':[0.01,0.1,1], \n",
    "              'model__penalty':['l2'], \n",
    "              'model__solver':['lbfgs','newton-cholesky']}\n",
    "LR_model = build_model(LogisticRegression(random_state=42), parameters, excludeComplain=False)"
   ]
  },
  {
   "cell_type": "code",
   "execution_count": 373,
   "id": "6ec1749c",
   "metadata": {},
   "outputs": [
    {
     "name": "stdout",
     "output_type": "stream",
     "text": [
      "The best parameters are: {'model__C': 0.01, 'model__penalty': 'l2', 'model__solver': 'lbfgs'}\n",
      "The best score on training set is: 0.99775\n",
      "Accuracy on test set:  0.999\n",
      "ROC score:  0.9993017191010702\n",
      "The classification scores are:\n",
      "              precision    recall  f1-score   support\n",
      "\n",
      "         0.0       1.00      1.00      1.00      1607\n",
      "         1.0       1.00      1.00      1.00       393\n",
      "\n",
      "    accuracy                           1.00      2000\n",
      "   macro avg       1.00      1.00      1.00      2000\n",
      "weighted avg       1.00      1.00      1.00      2000\n",
      "\n"
     ]
    },
    {
     "data": {
      "image/png": "[encoded data removed]",
      "text/plain": [
       "<Figure size 720x432 with 2 Axes>"
      ]
     },
     "metadata": {
      "needs_background": "light"
     },
     "output_type": "display_data"
    }
   ],
   "source": [
    "evaluate(LR_model)"
   ]
  },
  {
   "cell_type": "markdown",
   "id": "33ddde4f",
   "metadata": {},
   "source": [
    "### Without Complain"
   ]
  },
  {
   "cell_type": "code",
   "execution_count": 375,
   "id": "dd543d61",
   "metadata": {},
   "outputs": [
    {
     "name": "stdout",
     "output_type": "stream",
     "text": [
      "Fitting 5 folds for each of 6 candidates, totalling 30 fits\n"
     ]
    }
   ],
   "source": [
    "parameters = {'model__C':[0.01,0.1,1], \n",
    "              'model__penalty':['l2'], \n",
    "              'model__solver':['lbfgs','newton-cholesky']}\n",
    "LR_model2 = build_model(LogisticRegression(random_state=42), parameters, excludeComplain=True)"
   ]
  },
  {
   "cell_type": "code",
   "execution_count": 376,
   "id": "ea4cc50d",
   "metadata": {},
   "outputs": [
    {
     "name": "stdout",
     "output_type": "stream",
     "text": [
      "The best parameters are: {'model__C': 0.01, 'model__penalty': 'l2', 'model__solver': 'lbfgs'}\n",
      "The best score on training set is: 0.806\n",
      "Accuracy on test set:  0.812\n",
      "ROC score:  0.7810928966940122\n",
      "The classification scores are:\n",
      "              precision    recall  f1-score   support\n",
      "\n",
      "         0.0       0.97      0.82      0.89      1895\n",
      "         1.0       0.16      0.58      0.24       105\n",
      "\n",
      "    accuracy                           0.81      2000\n",
      "   macro avg       0.56      0.70      0.57      2000\n",
      "weighted avg       0.93      0.81      0.86      2000\n",
      "\n"
     ]
    },
    {
     "data": {
      "image/png": "[encoded data removed]",
      "text/plain": [
       "<Figure size 720x432 with 2 Axes>"
      ]
     },
     "metadata": {
      "needs_background": "light"
     },
     "output_type": "display_data"
    }
   ],
   "source": [
    "evaluate(LR_model2, True)"
   ]
  },
  {
   "cell_type": "markdown",
   "id": "09226dbd",
   "metadata": {},
   "source": [
    "We can see that the model performance dropped significantly when Complain is not included as a one of the features. We know that Complain is one of the key drivers for churning customers. Thus, now we want to find out whether there is other customer segments that drives churning customers. Now we are going to exclude Complain as a feature.  \n",
    "\n",
    "Logistic Regression is our base model. It is a good indicator whether other classifiers can improve from Logistic Regression and make comparison."
   ]
  },
  {
   "cell_type": "markdown",
   "id": "a65c031a",
   "metadata": {},
   "source": [
    "## Decision Tree Classification"
   ]
  },
  {
   "cell_type": "code",
   "execution_count": 377,
   "id": "3b430a94",
   "metadata": {},
   "outputs": [
    {
     "name": "stdout",
     "output_type": "stream",
     "text": [
      "Fitting 5 folds for each of 24 candidates, totalling 120 fits\n"
     ]
    }
   ],
   "source": [
    "parameters = {'model__min_samples_split':[2,8],\n",
    "              'model__max_depth':[2,4,8], \n",
    "              'model__max_features':[5,10],\n",
    "              'model__class_weight':[{0:1,1:2}, {0:1,1:1.5}]}\n",
    "tree_model = build_model(DecisionTreeClassifier(random_state=42), parameters, excludeComplain=True)"
   ]
  },
  {
   "cell_type": "code",
   "execution_count": 378,
   "id": "c5e94917",
   "metadata": {},
   "outputs": [
    {
     "name": "stdout",
     "output_type": "stream",
     "text": [
      "The best parameters are: {'model__class_weight': {0: 1, 1: 2}, 'model__max_depth': 2, 'model__max_features': 5, 'model__min_samples_split': 2}\n",
      "The best score on training set is: 0.745625\n",
      "Accuracy on test set:  0.7565\n",
      "ROC score:  0.732778508782347\n",
      "The classification scores are:\n",
      "              precision    recall  f1-score   support\n",
      "\n",
      "         0.0       0.79      0.90      0.84      1416\n",
      "         1.0       0.62      0.42      0.50       584\n",
      "\n",
      "    accuracy                           0.76      2000\n",
      "   macro avg       0.71      0.66      0.67      2000\n",
      "weighted avg       0.74      0.76      0.74      2000\n",
      "\n"
     ]
    },
    {
     "data": {
      "image/png": "[encoded data removed]",
      "text/plain": [
       "<Figure size 720x432 with 2 Axes>"
      ]
     },
     "metadata": {
      "needs_background": "light"
     },
     "output_type": "display_data"
    }
   ],
   "source": [
    "evaluate(tree_model, True)"
   ]
  },
  {
   "cell_type": "markdown",
   "id": "062e2c6f",
   "metadata": {},
   "source": [
    "## Random Forest Classification"
   ]
  },
  {
   "cell_type": "markdown",
   "id": "39dee8a0",
   "metadata": {},
   "source": [
    "Ensemble models can boost performance by combining multiple algorithms to learn the data. Random Forest is one of example of Ensemble models. It uses bagging technique which uses multiple decision trees."
   ]
  },
  {
   "cell_type": "code",
   "execution_count": 383,
   "id": "ff94978f",
   "metadata": {},
   "outputs": [
    {
     "name": "stdout",
     "output_type": "stream",
     "text": [
      "Fitting 5 folds for each of 24 candidates, totalling 120 fits\n"
     ]
    }
   ],
   "source": [
    "parameters={'model__n_estimators':[100,200], \n",
    "            'model__class_weight':[{0:1,1:2}, {0:1,1:1.5}],\n",
    "            'model__max_depth':[2,4,8],\n",
    "            'model__max_features':[5,15]}\n",
    "rf_model = build_model(RandomForestClassifier(random_state=42), parameters, excludeComplain=True)"
   ]
  },
  {
   "cell_type": "code",
   "execution_count": 384,
   "id": "ae3ea413",
   "metadata": {},
   "outputs": [
    {
     "name": "stdout",
     "output_type": "stream",
     "text": [
      "The best parameters are: {'model__class_weight': {0: 1, 1: 2}, 'model__max_depth': 2, 'model__max_features': 5, 'model__n_estimators': 100}\n",
      "The best score on training set is: 0.8355\n",
      "Accuracy on test set:  0.8405\n",
      "ROC score:  0.8249476289325803\n",
      "The classification scores are:\n",
      "              precision    recall  f1-score   support\n",
      "\n",
      "         0.0       0.99      0.84      0.91      1900\n",
      "         1.0       0.22      0.87      0.35       100\n",
      "\n",
      "    accuracy                           0.84      2000\n",
      "   macro avg       0.61      0.85      0.63      2000\n",
      "weighted avg       0.95      0.84      0.88      2000\n",
      "\n"
     ]
    },
    {
     "data": {
      "image/png": "[encoded data removed]",
      "text/plain": [
       "<Figure size 720x432 with 2 Axes>"
      ]
     },
     "metadata": {
      "needs_background": "light"
     },
     "output_type": "display_data"
    }
   ],
   "source": [
    "evaluate(rf_model, True)"
   ]
  },
  {
   "cell_type": "markdown",
   "id": "41990e88",
   "metadata": {},
   "source": [
    "## Gradient Boosting"
   ]
  },
  {
   "cell_type": "markdown",
   "id": "748fc030",
   "metadata": {},
   "source": [
    "Gradient boosting is another ensemble model that utilises boosting technique. "
   ]
  },
  {
   "cell_type": "code",
   "execution_count": 388,
   "id": "b5bb033e",
   "metadata": {},
   "outputs": [
    {
     "name": "stdout",
     "output_type": "stream",
     "text": [
      "Fitting 5 folds for each of 16 candidates, totalling 80 fits\n"
     ]
    }
   ],
   "source": [
    "parameters = {'model__n_estimators':[100,150], \n",
    "              'model__learning_rate':[0.1,0.2],\n",
    "              'model__max_features':[5,10],\n",
    "              'model__subsample':[1,0.9]}\n",
    "gb_model = build_model(GradientBoostingClassifier(random_state=42), parameters, excludeComplain=True)"
   ]
  },
  {
   "cell_type": "code",
   "execution_count": 389,
   "id": "3a1cf274",
   "metadata": {},
   "outputs": [
    {
     "name": "stdout",
     "output_type": "stream",
     "text": [
      "The best parameters are: {'model__learning_rate': 0.1, 'model__max_features': 5, 'model__n_estimators': 100, 'model__subsample': 1}\n",
      "The best score on training set is: 0.87025\n",
      "Accuracy on test set:  0.8605\n",
      "ROC score:  0.8683819675687316\n",
      "The classification scores are:\n",
      "              precision    recall  f1-score   support\n",
      "\n",
      "         0.0       0.96      0.88      0.92      1760\n",
      "         1.0       0.45      0.74      0.56       240\n",
      "\n",
      "    accuracy                           0.86      2000\n",
      "   macro avg       0.71      0.81      0.74      2000\n",
      "weighted avg       0.90      0.86      0.87      2000\n",
      "\n"
     ]
    },
    {
     "data": {
      "image/png": "[encoded data removed]",
      "text/plain": [
       "<Figure size 720x432 with 2 Axes>"
      ]
     },
     "metadata": {
      "needs_background": "light"
     },
     "output_type": "display_data"
    }
   ],
   "source": [
    "evaluate(gb_model, True)"
   ]
  },
  {
   "cell_type": "markdown",
   "id": "7c6265b9",
   "metadata": {},
   "source": [
    "## Model Performance Comparison"
   ]
  },
  {
   "cell_type": "code",
   "execution_count": 393,
   "id": "ac182bfa",
   "metadata": {},
   "outputs": [
    {
     "data": {
      "text/html": [
       "<div>\n",
       "<style scoped>\n",
       "    .dataframe tbody tr th:only-of-type {\n",
       "        vertical-align: middle;\n",
       "    }\n",
       "\n",
       "    .dataframe tbody tr th {\n",
       "        vertical-align: top;\n",
       "    }\n",
       "\n",
       "    .dataframe thead th {\n",
       "        text-align: right;\n",
       "    }\n",
       "</style>\n",
       "<table border=\"1\" class=\"dataframe\">\n",
       "  <thead>\n",
       "    <tr style=\"text-align: right;\">\n",
       "      <th></th>\n",
       "      <th>test_acc</th>\n",
       "      <th>train_acc</th>\n",
       "      <th>roc_auc</th>\n",
       "    </tr>\n",
       "  </thead>\n",
       "  <tbody>\n",
       "    <tr>\n",
       "      <th>Logistic Regression</th>\n",
       "      <td>0.8120</td>\n",
       "      <td>0.806000</td>\n",
       "      <td>0.781093</td>\n",
       "    </tr>\n",
       "    <tr>\n",
       "      <th>Decision Tree1</th>\n",
       "      <td>0.7565</td>\n",
       "      <td>0.745625</td>\n",
       "      <td>0.732779</td>\n",
       "    </tr>\n",
       "    <tr>\n",
       "      <th>Random Forest</th>\n",
       "      <td>0.8405</td>\n",
       "      <td>0.835500</td>\n",
       "      <td>0.824948</td>\n",
       "    </tr>\n",
       "    <tr>\n",
       "      <th>Gradient Boosting</th>\n",
       "      <td>0.8605</td>\n",
       "      <td>0.870250</td>\n",
       "      <td>0.868382</td>\n",
       "    </tr>\n",
       "  </tbody>\n",
       "</table>\n",
       "</div>"
      ],
      "text/plain": [
       "                     test_acc  train_acc   roc_auc\n",
       "Logistic Regression    0.8120   0.806000  0.781093\n",
       "Decision Tree1         0.7565   0.745625  0.732779\n",
       "Random Forest          0.8405   0.835500  0.824948\n",
       "Gradient Boosting      0.8605   0.870250  0.868382"
      ]
     },
     "execution_count": 393,
     "metadata": {},
     "output_type": "execute_result"
    }
   ],
   "source": [
    "scores_df = pd.DataFrame(scores, index=['Logistic Regression', 'Decision Tree', 'Random Forest', 'Gradient Boosting'])\n",
    "scores_df"
   ]
  },
  {
   "cell_type": "code",
   "execution_count": 394,
   "id": "6112358a",
   "metadata": {},
   "outputs": [
    {
     "data": {
      "text/plain": [
       "[(0.7, 0.9)]"
      ]
     },
     "execution_count": 394,
     "metadata": {},
     "output_type": "execute_result"
    },
    {
     "data": {
      "image/png": "[encoded data removed]",
      "text/plain": [
       "<Figure size 720x432 with 1 Axes>"
      ]
     },
     "metadata": {
      "needs_background": "light"
     },
     "output_type": "display_data"
    }
   ],
   "source": [
    "ax = scores_df.drop('roc_auc',axis=1).plot(kind='line', rot=0, figsize=(10,6))\n",
    "ax.set(ylim=[0.7,0.9])"
   ]
  },
  {
   "cell_type": "code",
   "execution_count": 395,
   "id": "7590413d",
   "metadata": {},
   "outputs": [
    {
     "data": {
      "image/png": "[encoded data removed]",
      "text/plain": [
       "<Figure size 720x432 with 1 Axes>"
      ]
     },
     "metadata": {
      "needs_background": "light"
     },
     "output_type": "display_data"
    }
   ],
   "source": [
    "ax = scores_df['roc_auc'].plot(kind='line', rot=0, figsize=(10,6))"
   ]
  },
  {
   "cell_type": "markdown",
   "id": "2e86b150",
   "metadata": {},
   "source": [
    "There is a small improvement in validation score from logistic regression model. Ensemble methods are great here. Random Forest and Gradient Boosting models have significant increase in performance. The ROC score also increases from logistic regression and decision tree.  \n",
    "\n",
    "In conclusion, one of the main driver of churning customer is complain. We know this finding based on our exploration and further proved it with building ML models. When building models without complain as a feature, performance dropped significantly. So, I decided to investigate whether there are other features that interact with churn well. \n",
    "\n",
    "Several models were built including Logistic Regression (our base model), decision tree, random forest, and gradient boosting. Overall, gradient boosting model is chosen here as the best model for predicting churn. While random forest has slightly higher test accuracy, gradient boosting has better ROC score. ROC score is a measure to evaluate whether model can distinguish binary classes. \n",
    "\n",
    "The main features that drive customer churn will be discovered in the next phase using recursive feature elimination (RFE) and cross validation (CV). I will also experiment using resample method to find out if it will improve the f1-score for `1` class (churn)."
   ]
  },
  {
   "cell_type": "markdown",
   "id": "22d9d67d",
   "metadata": {},
   "source": [
    "Current model performance benchmark (GB):"
   ]
  },
  {
   "attachments": {
    "image.png": {
     "image/png": "[encoded data removed]"
    }
   },
   "cell_type": "markdown",
   "id": "9a884020",
   "metadata": {},
   "source": [
    "![image.png](attachment:image.png)"
   ]
  },
  {
   "cell_type": "code",
   "execution_count": null,
   "id": "d139dec4",
   "metadata": {},
   "outputs": [],
   "source": [
    "import pickle\n",
    "pickle.dump(gb, open('model.pkl', 'wb'))"
   ]
  },
  {
   "cell_type": "markdown",
   "id": "ae3190af",
   "metadata": {},
   "source": [
    "## RFECV"
   ]
  },
  {
   "cell_type": "code",
   "execution_count": 27,
   "id": "10fb46a3",
   "metadata": {},
   "outputs": [
    {
     "data": {
      "text/html": [
       "<style>#sk-container-id-1 {color: black;background-color: white;}#sk-container-id-1 pre{padding: 0;}#sk-container-id-1 div.sk-toggleable {background-color: white;}#sk-container-id-1 label.sk-toggleable__label {cursor: pointer;display: block;width: 100%;margin-bottom: 0;padding: 0.3em;box-sizing: border-box;text-align: center;}#sk-container-id-1 label.sk-toggleable__label-arrow:before {content: \"▸\";float: left;margin-right: 0.25em;color: #696969;}#sk-container-id-1 label.sk-toggleable__label-arrow:hover:before {color: black;}#sk-container-id-1 div.sk-estimator:hover label.sk-toggleable__label-arrow:before {color: black;}#sk-container-id-1 div.sk-toggleable__content {max-height: 0;max-width: 0;overflow: hidden;text-align: left;background-color: #f0f8ff;}#sk-container-id-1 div.sk-toggleable__content pre {margin: 0.2em;color: black;border-radius: 0.25em;background-color: #f0f8ff;}#sk-container-id-1 input.sk-toggleable__control:checked~div.sk-toggleable__content {max-height: 200px;max-width: 100%;overflow: auto;}#sk-container-id-1 input.sk-toggleable__control:checked~label.sk-toggleable__label-arrow:before {content: \"▾\";}#sk-container-id-1 div.sk-estimator input.sk-toggleable__control:checked~label.sk-toggleable__label {background-color: #d4ebff;}#sk-container-id-1 div.sk-label input.sk-toggleable__control:checked~label.sk-toggleable__label {background-color: #d4ebff;}#sk-container-id-1 input.sk-hidden--visually {border: 0;clip: rect(1px 1px 1px 1px);clip: rect(1px, 1px, 1px, 1px);height: 1px;margin: -1px;overflow: hidden;padding: 0;position: absolute;width: 1px;}#sk-container-id-1 div.sk-estimator {font-family: monospace;background-color: #f0f8ff;border: 1px dotted black;border-radius: 0.25em;box-sizing: border-box;margin-bottom: 0.5em;}#sk-container-id-1 div.sk-estimator:hover {background-color: #d4ebff;}#sk-container-id-1 div.sk-parallel-item::after {content: \"\";width: 100%;border-bottom: 1px solid gray;flex-grow: 1;}#sk-container-id-1 div.sk-label:hover label.sk-toggleable__label {background-color: #d4ebff;}#sk-container-id-1 div.sk-serial::before {content: \"\";position: absolute;border-left: 1px solid gray;box-sizing: border-box;top: 0;bottom: 0;left: 50%;z-index: 0;}#sk-container-id-1 div.sk-serial {display: flex;flex-direction: column;align-items: center;background-color: white;padding-right: 0.2em;padding-left: 0.2em;position: relative;}#sk-container-id-1 div.sk-item {position: relative;z-index: 1;}#sk-container-id-1 div.sk-parallel {display: flex;align-items: stretch;justify-content: center;background-color: white;position: relative;}#sk-container-id-1 div.sk-item::before, #sk-container-id-1 div.sk-parallel-item::before {content: \"\";position: absolute;border-left: 1px solid gray;box-sizing: border-box;top: 0;bottom: 0;left: 50%;z-index: -1;}#sk-container-id-1 div.sk-parallel-item {display: flex;flex-direction: column;z-index: 1;position: relative;background-color: white;}#sk-container-id-1 div.sk-parallel-item:first-child::after {align-self: flex-end;width: 50%;}#sk-container-id-1 div.sk-parallel-item:last-child::after {align-self: flex-start;width: 50%;}#sk-container-id-1 div.sk-parallel-item:only-child::after {width: 0;}#sk-container-id-1 div.sk-dashed-wrapped {border: 1px dashed gray;margin: 0 0.4em 0.5em 0.4em;box-sizing: border-box;padding-bottom: 0.4em;background-color: white;}#sk-container-id-1 div.sk-label label {font-family: monospace;font-weight: bold;display: inline-block;line-height: 1.2em;}#sk-container-id-1 div.sk-label-container {text-align: center;}#sk-container-id-1 div.sk-container {/* jupyter's `normalize.less` sets `[hidden] { display: none; }` but bootstrap.min.css set `[hidden] { display: none !important; }` so we also need the `!important` here to be able to override the default hidden behavior on the sphinx rendered scikit-learn.org. See: https://github.com/scikit-learn/scikit-learn/issues/21755 */display: inline-block !important;position: relative;}#sk-container-id-1 div.sk-text-repr-fallback {display: none;}</style><div id=\"sk-container-id-1\" class=\"sk-top-container\"><div class=\"sk-text-repr-fallback\"><pre>RFECV(cv=StratifiedKFold(n_splits=5, random_state=None, shuffle=False),\n",
       "      estimator=GradientBoostingClassifier(learning_rate=0.2, max_features=10,\n",
       "                                           random_state=42, subsample=0.9))</pre><b>In a Jupyter environment, please rerun this cell to show the HTML representation or trust the notebook. <br />On GitHub, the HTML representation is unable to render, please try loading this page with nbviewer.org.</b></div><div class=\"sk-container\" hidden><div class=\"sk-item sk-dashed-wrapped\"><div class=\"sk-label-container\"><div class=\"sk-label sk-toggleable\"><input class=\"sk-toggleable__control sk-hidden--visually\" id=\"sk-estimator-id-1\" type=\"checkbox\" ><label for=\"sk-estimator-id-1\" class=\"sk-toggleable__label sk-toggleable__label-arrow\">RFECV</label><div class=\"sk-toggleable__content\"><pre>RFECV(cv=StratifiedKFold(n_splits=5, random_state=None, shuffle=False),\n",
       "      estimator=GradientBoostingClassifier(learning_rate=0.2, max_features=10,\n",
       "                                           random_state=42, subsample=0.9))</pre></div></div></div><div class=\"sk-parallel\"><div class=\"sk-parallel-item\"><div class=\"sk-item\"><div class=\"sk-label-container\"><div class=\"sk-label sk-toggleable\"><input class=\"sk-toggleable__control sk-hidden--visually\" id=\"sk-estimator-id-2\" type=\"checkbox\" ><label for=\"sk-estimator-id-2\" class=\"sk-toggleable__label sk-toggleable__label-arrow\">estimator: GradientBoostingClassifier</label><div class=\"sk-toggleable__content\"><pre>GradientBoostingClassifier(learning_rate=0.2, max_features=10, random_state=42,\n",
       "                           subsample=0.9)</pre></div></div></div><div class=\"sk-serial\"><div class=\"sk-item\"><div class=\"sk-estimator sk-toggleable\"><input class=\"sk-toggleable__control sk-hidden--visually\" id=\"sk-estimator-id-3\" type=\"checkbox\" ><label for=\"sk-estimator-id-3\" class=\"sk-toggleable__label sk-toggleable__label-arrow\">GradientBoostingClassifier</label><div class=\"sk-toggleable__content\"><pre>GradientBoostingClassifier(learning_rate=0.2, max_features=10, random_state=42,\n",
       "                           subsample=0.9)</pre></div></div></div></div></div></div></div></div></div></div>"
      ],
      "text/plain": [
       "RFECV(cv=StratifiedKFold(n_splits=5, random_state=None, shuffle=False),\n",
       "      estimator=GradientBoostingClassifier(learning_rate=0.2, max_features=10,\n",
       "                                           random_state=42, subsample=0.9))"
      ]
     },
     "execution_count": 27,
     "metadata": {},
     "output_type": "execute_result"
    }
   ],
   "source": [
    "estimator = GradientBoostingClassifier(random_state=42, criterion='friedman_mse', learning_rate= 0.2, \n",
    "                                       max_features=10, n_estimators=100, subsample=0.9)\n",
    "\n",
    "rfecv = RFECV(estimator=estimator, cv=StratifiedKFold(n_splits=5))\n",
    "rfecv.fit(X_train, y_train)"
   ]
  },
  {
   "cell_type": "code",
   "execution_count": 28,
   "id": "0d2cf3f4",
   "metadata": {},
   "outputs": [
    {
     "data": {
      "text/plain": [
       "Index(['CreditScore', 'Age', 'Tenure', 'Balance', 'NumOfProducts',\n",
       "       'IsActiveMember', 'EstimatedSalary', 'Satisfaction Score',\n",
       "       'Point Earned', 'Female', 'Male', 'Germany'],\n",
       "      dtype='object')"
      ]
     },
     "execution_count": 28,
     "metadata": {},
     "output_type": "execute_result"
    }
   ],
   "source": [
    "selected_features = X_train.columns[rfecv.support_]\n",
    "selected_features"
   ]
  },
  {
   "cell_type": "code",
   "execution_count": 29,
   "id": "58437fda",
   "metadata": {},
   "outputs": [
    {
     "data": {
      "image/png": "[encoded data removed]",
      "text/plain": [
       "<Figure size 720x432 with 1 Axes>"
      ]
     },
     "metadata": {
      "needs_background": "light"
     },
     "output_type": "display_data"
    }
   ],
   "source": [
    "plt.figure()\n",
    "plt.grid(True)\n",
    "plt.xlabel(\"Number of features selected\")\n",
    "plt.ylabel(\"Cross-validation score (accuracy)\")\n",
    "plt.plot(range(1, len(rfecv.cv_results_['mean_test_score']) + 1), rfecv.cv_results_['mean_test_score'],\n",
    "        marker='o', color='#3282b8', markerfacecolor = 'None', markeredgecolor = '#3282b8', markeredgewidth = 1.2)\n",
    "plt.plot(12, rfecv.cv_results_['mean_test_score'][11], marker='o', markerfacecolor = '#3282b8', markeredgewidth = 1.2)\n",
    "plt.show()"
   ]
  },
  {
   "cell_type": "markdown",
   "id": "fd3654e0",
   "metadata": {},
   "source": [
    "The accuracy peaks with 12 features selected. The accuracy scores starts increasing after 1 feature and stopped after 6 features."
   ]
  },
  {
   "cell_type": "markdown",
   "id": "8da87b21",
   "metadata": {},
   "source": [
    "### Features importance"
   ]
  },
  {
   "cell_type": "code",
   "execution_count": 30,
   "id": "2d1efd67",
   "metadata": {},
   "outputs": [
    {
     "data": {
      "text/html": [
       "<style>#sk-container-id-2 {color: black;background-color: white;}#sk-container-id-2 pre{padding: 0;}#sk-container-id-2 div.sk-toggleable {background-color: white;}#sk-container-id-2 label.sk-toggleable__label {cursor: pointer;display: block;width: 100%;margin-bottom: 0;padding: 0.3em;box-sizing: border-box;text-align: center;}#sk-container-id-2 label.sk-toggleable__label-arrow:before {content: \"▸\";float: left;margin-right: 0.25em;color: #696969;}#sk-container-id-2 label.sk-toggleable__label-arrow:hover:before {color: black;}#sk-container-id-2 div.sk-estimator:hover label.sk-toggleable__label-arrow:before {color: black;}#sk-container-id-2 div.sk-toggleable__content {max-height: 0;max-width: 0;overflow: hidden;text-align: left;background-color: #f0f8ff;}#sk-container-id-2 div.sk-toggleable__content pre {margin: 0.2em;color: black;border-radius: 0.25em;background-color: #f0f8ff;}#sk-container-id-2 input.sk-toggleable__control:checked~div.sk-toggleable__content {max-height: 200px;max-width: 100%;overflow: auto;}#sk-container-id-2 input.sk-toggleable__control:checked~label.sk-toggleable__label-arrow:before {content: \"▾\";}#sk-container-id-2 div.sk-estimator input.sk-toggleable__control:checked~label.sk-toggleable__label {background-color: #d4ebff;}#sk-container-id-2 div.sk-label input.sk-toggleable__control:checked~label.sk-toggleable__label {background-color: #d4ebff;}#sk-container-id-2 input.sk-hidden--visually {border: 0;clip: rect(1px 1px 1px 1px);clip: rect(1px, 1px, 1px, 1px);height: 1px;margin: -1px;overflow: hidden;padding: 0;position: absolute;width: 1px;}#sk-container-id-2 div.sk-estimator {font-family: monospace;background-color: #f0f8ff;border: 1px dotted black;border-radius: 0.25em;box-sizing: border-box;margin-bottom: 0.5em;}#sk-container-id-2 div.sk-estimator:hover {background-color: #d4ebff;}#sk-container-id-2 div.sk-parallel-item::after {content: \"\";width: 100%;border-bottom: 1px solid gray;flex-grow: 1;}#sk-container-id-2 div.sk-label:hover label.sk-toggleable__label {background-color: #d4ebff;}#sk-container-id-2 div.sk-serial::before {content: \"\";position: absolute;border-left: 1px solid gray;box-sizing: border-box;top: 0;bottom: 0;left: 50%;z-index: 0;}#sk-container-id-2 div.sk-serial {display: flex;flex-direction: column;align-items: center;background-color: white;padding-right: 0.2em;padding-left: 0.2em;position: relative;}#sk-container-id-2 div.sk-item {position: relative;z-index: 1;}#sk-container-id-2 div.sk-parallel {display: flex;align-items: stretch;justify-content: center;background-color: white;position: relative;}#sk-container-id-2 div.sk-item::before, #sk-container-id-2 div.sk-parallel-item::before {content: \"\";position: absolute;border-left: 1px solid gray;box-sizing: border-box;top: 0;bottom: 0;left: 50%;z-index: -1;}#sk-container-id-2 div.sk-parallel-item {display: flex;flex-direction: column;z-index: 1;position: relative;background-color: white;}#sk-container-id-2 div.sk-parallel-item:first-child::after {align-self: flex-end;width: 50%;}#sk-container-id-2 div.sk-parallel-item:last-child::after {align-self: flex-start;width: 50%;}#sk-container-id-2 div.sk-parallel-item:only-child::after {width: 0;}#sk-container-id-2 div.sk-dashed-wrapped {border: 1px dashed gray;margin: 0 0.4em 0.5em 0.4em;box-sizing: border-box;padding-bottom: 0.4em;background-color: white;}#sk-container-id-2 div.sk-label label {font-family: monospace;font-weight: bold;display: inline-block;line-height: 1.2em;}#sk-container-id-2 div.sk-label-container {text-align: center;}#sk-container-id-2 div.sk-container {/* jupyter's `normalize.less` sets `[hidden] { display: none; }` but bootstrap.min.css set `[hidden] { display: none !important; }` so we also need the `!important` here to be able to override the default hidden behavior on the sphinx rendered scikit-learn.org. See: https://github.com/scikit-learn/scikit-learn/issues/21755 */display: inline-block !important;position: relative;}#sk-container-id-2 div.sk-text-repr-fallback {display: none;}</style><div id=\"sk-container-id-2\" class=\"sk-top-container\"><div class=\"sk-text-repr-fallback\"><pre>GradientBoostingClassifier(learning_rate=0.2, max_features=10, random_state=42,\n",
       "                           subsample=0.9)</pre><b>In a Jupyter environment, please rerun this cell to show the HTML representation or trust the notebook. <br />On GitHub, the HTML representation is unable to render, please try loading this page with nbviewer.org.</b></div><div class=\"sk-container\" hidden><div class=\"sk-item\"><div class=\"sk-estimator sk-toggleable\"><input class=\"sk-toggleable__control sk-hidden--visually\" id=\"sk-estimator-id-4\" type=\"checkbox\" checked><label for=\"sk-estimator-id-4\" class=\"sk-toggleable__label sk-toggleable__label-arrow\">GradientBoostingClassifier</label><div class=\"sk-toggleable__content\"><pre>GradientBoostingClassifier(learning_rate=0.2, max_features=10, random_state=42,\n",
       "                           subsample=0.9)</pre></div></div></div></div></div>"
      ],
      "text/plain": [
       "GradientBoostingClassifier(learning_rate=0.2, max_features=10, random_state=42,\n",
       "                           subsample=0.9)"
      ]
     },
     "execution_count": 30,
     "metadata": {},
     "output_type": "execute_result"
    }
   ],
   "source": [
    "estimator.fit(X_train, y_train)"
   ]
  },
  {
   "cell_type": "code",
   "execution_count": 31,
   "id": "2bfaaf59",
   "metadata": {},
   "outputs": [
    {
     "data": {
      "text/plain": [
       "Index(['HasCrCard', 'Spain', 'Satisfaction Score', 'Female', 'France',\n",
       "       'Tenure', 'Male', 'Point Earned', 'CreditScore', 'EstimatedSalary',\n",
       "       'Germany', 'Balance', 'IsActiveMember', 'NumOfProducts', 'Age'],\n",
       "      dtype='object')"
      ]
     },
     "execution_count": 31,
     "metadata": {},
     "output_type": "execute_result"
    }
   ],
   "source": [
    "sort_indices = estimator.feature_importances_.argsort()\n",
    "X_train.columns[sort_indices]"
   ]
  },
  {
   "cell_type": "code",
   "execution_count": 32,
   "id": "b8dd09c0",
   "metadata": {},
   "outputs": [
    {
     "data": {
      "image/png": "[encoded data removed]",
      "text/plain": [
       "<Figure size 720x432 with 1 Axes>"
      ]
     },
     "metadata": {
      "needs_background": "light"
     },
     "output_type": "display_data"
    }
   ],
   "source": [
    "plt.figure()\n",
    "plt.title(\"Feature Importance\")\n",
    "plt.barh(range(X_train.shape[1]), estimator.feature_importances_[sort_indices])\n",
    "plt.yticks(range(X_train.shape[1]), X_train.columns[sort_indices], rotation=0)\n",
    "plt.show()"
   ]
  },
  {
   "cell_type": "markdown",
   "id": "9e78b919",
   "metadata": {},
   "source": [
    "From the chart it can be seen that the top 3 features are age, number of products with the bank, and active member status. However, age and number of products are the most influential features in determining churn due to the contribution value it holds.\n",
    "\n",
    "Overall, the bank should focus on building better experience for their customer. This can be solved from the complains that the bank have received as this is the main driver. Furthermore, age is also important in determining churn, the further exploration of which age group churned in the past will be conducted. Lastly, number of products that the customer has with the bank is also crucial. Increasing bank products as well as its quality will prevent customer from churning."
   ]
  },
  {
   "cell_type": "markdown",
   "id": "71c58782",
   "metadata": {},
   "source": [
    "### Exploring Age group"
   ]
  },
  {
   "cell_type": "code",
   "execution_count": 33,
   "id": "f3f75665",
   "metadata": {},
   "outputs": [
    {
     "data": {
      "text/plain": [
       "count    10000.000000\n",
       "mean        38.921800\n",
       "std         10.487806\n",
       "min         18.000000\n",
       "25%         32.000000\n",
       "50%         37.000000\n",
       "75%         44.000000\n",
       "max         92.000000\n",
       "Name: Age, dtype: float64"
      ]
     },
     "execution_count": 33,
     "metadata": {},
     "output_type": "execute_result"
    }
   ],
   "source": [
    "data['Age'].describe()"
   ]
  },
  {
   "cell_type": "code",
   "execution_count": 34,
   "id": "e5a5eadf",
   "metadata": {},
   "outputs": [],
   "source": [
    "group = [18,20,30,40,50,60,70,93]\n",
    "labels = ['<20', '20s', '30s','40s','50s','60s','>70']\n",
    "data['Age_group']=pd.cut(data['Age'], bins=group, labels=labels, right=False)"
   ]
  },
  {
   "cell_type": "code",
   "execution_count": 35,
   "id": "3b8c14da",
   "metadata": {},
   "outputs": [
    {
     "data": {
      "text/html": [
       "<div>\n",
       "<style scoped>\n",
       "    .dataframe tbody tr th:only-of-type {\n",
       "        vertical-align: middle;\n",
       "    }\n",
       "\n",
       "    .dataframe tbody tr th {\n",
       "        vertical-align: top;\n",
       "    }\n",
       "\n",
       "    .dataframe thead th {\n",
       "        text-align: right;\n",
       "    }\n",
       "</style>\n",
       "<table border=\"1\" class=\"dataframe\">\n",
       "  <thead>\n",
       "    <tr style=\"text-align: right;\">\n",
       "      <th></th>\n",
       "      <th>CustomerId</th>\n",
       "      <th>Surname</th>\n",
       "      <th>CreditScore</th>\n",
       "      <th>Age</th>\n",
       "      <th>Tenure</th>\n",
       "      <th>Balance</th>\n",
       "      <th>NumOfProducts</th>\n",
       "      <th>HasCrCard</th>\n",
       "      <th>IsActiveMember</th>\n",
       "      <th>EstimatedSalary</th>\n",
       "      <th>...</th>\n",
       "      <th>Complain</th>\n",
       "      <th>Satisfaction Score</th>\n",
       "      <th>Card Type</th>\n",
       "      <th>Point Earned</th>\n",
       "      <th>Female</th>\n",
       "      <th>Male</th>\n",
       "      <th>France</th>\n",
       "      <th>Germany</th>\n",
       "      <th>Spain</th>\n",
       "      <th>Age_group</th>\n",
       "    </tr>\n",
       "  </thead>\n",
       "  <tbody>\n",
       "    <tr>\n",
       "      <th>0</th>\n",
       "      <td>15634602</td>\n",
       "      <td>Hargrave</td>\n",
       "      <td>619</td>\n",
       "      <td>42</td>\n",
       "      <td>2</td>\n",
       "      <td>0.00</td>\n",
       "      <td>1</td>\n",
       "      <td>1</td>\n",
       "      <td>1</td>\n",
       "      <td>101348.88</td>\n",
       "      <td>...</td>\n",
       "      <td>1</td>\n",
       "      <td>2</td>\n",
       "      <td>DIAMOND</td>\n",
       "      <td>464</td>\n",
       "      <td>1</td>\n",
       "      <td>0</td>\n",
       "      <td>1</td>\n",
       "      <td>0</td>\n",
       "      <td>0</td>\n",
       "      <td>40s</td>\n",
       "    </tr>\n",
       "    <tr>\n",
       "      <th>1</th>\n",
       "      <td>15647311</td>\n",
       "      <td>Hill</td>\n",
       "      <td>608</td>\n",
       "      <td>41</td>\n",
       "      <td>1</td>\n",
       "      <td>83807.86</td>\n",
       "      <td>1</td>\n",
       "      <td>0</td>\n",
       "      <td>1</td>\n",
       "      <td>112542.58</td>\n",
       "      <td>...</td>\n",
       "      <td>1</td>\n",
       "      <td>3</td>\n",
       "      <td>DIAMOND</td>\n",
       "      <td>456</td>\n",
       "      <td>1</td>\n",
       "      <td>0</td>\n",
       "      <td>0</td>\n",
       "      <td>0</td>\n",
       "      <td>1</td>\n",
       "      <td>40s</td>\n",
       "    </tr>\n",
       "    <tr>\n",
       "      <th>2</th>\n",
       "      <td>15619304</td>\n",
       "      <td>Onio</td>\n",
       "      <td>502</td>\n",
       "      <td>42</td>\n",
       "      <td>8</td>\n",
       "      <td>159660.80</td>\n",
       "      <td>3</td>\n",
       "      <td>1</td>\n",
       "      <td>0</td>\n",
       "      <td>113931.57</td>\n",
       "      <td>...</td>\n",
       "      <td>1</td>\n",
       "      <td>3</td>\n",
       "      <td>DIAMOND</td>\n",
       "      <td>377</td>\n",
       "      <td>1</td>\n",
       "      <td>0</td>\n",
       "      <td>1</td>\n",
       "      <td>0</td>\n",
       "      <td>0</td>\n",
       "      <td>40s</td>\n",
       "    </tr>\n",
       "    <tr>\n",
       "      <th>3</th>\n",
       "      <td>15701354</td>\n",
       "      <td>Boni</td>\n",
       "      <td>699</td>\n",
       "      <td>39</td>\n",
       "      <td>1</td>\n",
       "      <td>0.00</td>\n",
       "      <td>2</td>\n",
       "      <td>0</td>\n",
       "      <td>0</td>\n",
       "      <td>93826.63</td>\n",
       "      <td>...</td>\n",
       "      <td>0</td>\n",
       "      <td>5</td>\n",
       "      <td>GOLD</td>\n",
       "      <td>350</td>\n",
       "      <td>1</td>\n",
       "      <td>0</td>\n",
       "      <td>1</td>\n",
       "      <td>0</td>\n",
       "      <td>0</td>\n",
       "      <td>30s</td>\n",
       "    </tr>\n",
       "    <tr>\n",
       "      <th>4</th>\n",
       "      <td>15737888</td>\n",
       "      <td>Mitchell</td>\n",
       "      <td>850</td>\n",
       "      <td>43</td>\n",
       "      <td>2</td>\n",
       "      <td>125510.82</td>\n",
       "      <td>1</td>\n",
       "      <td>1</td>\n",
       "      <td>1</td>\n",
       "      <td>79084.10</td>\n",
       "      <td>...</td>\n",
       "      <td>0</td>\n",
       "      <td>5</td>\n",
       "      <td>GOLD</td>\n",
       "      <td>425</td>\n",
       "      <td>1</td>\n",
       "      <td>0</td>\n",
       "      <td>0</td>\n",
       "      <td>0</td>\n",
       "      <td>1</td>\n",
       "      <td>40s</td>\n",
       "    </tr>\n",
       "    <tr>\n",
       "      <th>5</th>\n",
       "      <td>15574012</td>\n",
       "      <td>Chu</td>\n",
       "      <td>645</td>\n",
       "      <td>44</td>\n",
       "      <td>8</td>\n",
       "      <td>113755.78</td>\n",
       "      <td>2</td>\n",
       "      <td>1</td>\n",
       "      <td>0</td>\n",
       "      <td>149756.71</td>\n",
       "      <td>...</td>\n",
       "      <td>1</td>\n",
       "      <td>5</td>\n",
       "      <td>DIAMOND</td>\n",
       "      <td>484</td>\n",
       "      <td>0</td>\n",
       "      <td>1</td>\n",
       "      <td>0</td>\n",
       "      <td>0</td>\n",
       "      <td>1</td>\n",
       "      <td>40s</td>\n",
       "    </tr>\n",
       "    <tr>\n",
       "      <th>6</th>\n",
       "      <td>15592531</td>\n",
       "      <td>Bartlett</td>\n",
       "      <td>822</td>\n",
       "      <td>50</td>\n",
       "      <td>7</td>\n",
       "      <td>0.00</td>\n",
       "      <td>2</td>\n",
       "      <td>1</td>\n",
       "      <td>1</td>\n",
       "      <td>10062.80</td>\n",
       "      <td>...</td>\n",
       "      <td>0</td>\n",
       "      <td>2</td>\n",
       "      <td>SILVER</td>\n",
       "      <td>206</td>\n",
       "      <td>0</td>\n",
       "      <td>1</td>\n",
       "      <td>1</td>\n",
       "      <td>0</td>\n",
       "      <td>0</td>\n",
       "      <td>50s</td>\n",
       "    </tr>\n",
       "    <tr>\n",
       "      <th>7</th>\n",
       "      <td>15656148</td>\n",
       "      <td>Obinna</td>\n",
       "      <td>376</td>\n",
       "      <td>29</td>\n",
       "      <td>4</td>\n",
       "      <td>115046.74</td>\n",
       "      <td>4</td>\n",
       "      <td>1</td>\n",
       "      <td>0</td>\n",
       "      <td>119346.88</td>\n",
       "      <td>...</td>\n",
       "      <td>1</td>\n",
       "      <td>2</td>\n",
       "      <td>DIAMOND</td>\n",
       "      <td>282</td>\n",
       "      <td>1</td>\n",
       "      <td>0</td>\n",
       "      <td>0</td>\n",
       "      <td>1</td>\n",
       "      <td>0</td>\n",
       "      <td>20s</td>\n",
       "    </tr>\n",
       "    <tr>\n",
       "      <th>8</th>\n",
       "      <td>15792365</td>\n",
       "      <td>He</td>\n",
       "      <td>501</td>\n",
       "      <td>44</td>\n",
       "      <td>4</td>\n",
       "      <td>142051.07</td>\n",
       "      <td>2</td>\n",
       "      <td>0</td>\n",
       "      <td>1</td>\n",
       "      <td>74940.50</td>\n",
       "      <td>...</td>\n",
       "      <td>0</td>\n",
       "      <td>3</td>\n",
       "      <td>GOLD</td>\n",
       "      <td>251</td>\n",
       "      <td>0</td>\n",
       "      <td>1</td>\n",
       "      <td>1</td>\n",
       "      <td>0</td>\n",
       "      <td>0</td>\n",
       "      <td>40s</td>\n",
       "    </tr>\n",
       "    <tr>\n",
       "      <th>9</th>\n",
       "      <td>15592389</td>\n",
       "      <td>H?</td>\n",
       "      <td>684</td>\n",
       "      <td>27</td>\n",
       "      <td>2</td>\n",
       "      <td>134603.88</td>\n",
       "      <td>1</td>\n",
       "      <td>1</td>\n",
       "      <td>1</td>\n",
       "      <td>71725.73</td>\n",
       "      <td>...</td>\n",
       "      <td>0</td>\n",
       "      <td>3</td>\n",
       "      <td>GOLD</td>\n",
       "      <td>342</td>\n",
       "      <td>0</td>\n",
       "      <td>1</td>\n",
       "      <td>1</td>\n",
       "      <td>0</td>\n",
       "      <td>0</td>\n",
       "      <td>20s</td>\n",
       "    </tr>\n",
       "  </tbody>\n",
       "</table>\n",
       "<p>10 rows × 21 columns</p>\n",
       "</div>"
      ],
      "text/plain": [
       "   CustomerId   Surname  CreditScore  Age  Tenure    Balance  NumOfProducts  \\\n",
       "0    15634602  Hargrave          619   42       2       0.00              1   \n",
       "1    15647311      Hill          608   41       1   83807.86              1   \n",
       "2    15619304      Onio          502   42       8  159660.80              3   \n",
       "3    15701354      Boni          699   39       1       0.00              2   \n",
       "4    15737888  Mitchell          850   43       2  125510.82              1   \n",
       "5    15574012       Chu          645   44       8  113755.78              2   \n",
       "6    15592531  Bartlett          822   50       7       0.00              2   \n",
       "7    15656148    Obinna          376   29       4  115046.74              4   \n",
       "8    15792365        He          501   44       4  142051.07              2   \n",
       "9    15592389        H?          684   27       2  134603.88              1   \n",
       "\n",
       "   HasCrCard  IsActiveMember  EstimatedSalary  ...  Complain  \\\n",
       "0          1               1        101348.88  ...         1   \n",
       "1          0               1        112542.58  ...         1   \n",
       "2          1               0        113931.57  ...         1   \n",
       "3          0               0         93826.63  ...         0   \n",
       "4          1               1         79084.10  ...         0   \n",
       "5          1               0        149756.71  ...         1   \n",
       "6          1               1         10062.80  ...         0   \n",
       "7          1               0        119346.88  ...         1   \n",
       "8          0               1         74940.50  ...         0   \n",
       "9          1               1         71725.73  ...         0   \n",
       "\n",
       "   Satisfaction Score  Card Type Point Earned  Female  Male  France  Germany  \\\n",
       "0                   2    DIAMOND          464       1     0       1        0   \n",
       "1                   3    DIAMOND          456       1     0       0        0   \n",
       "2                   3    DIAMOND          377       1     0       1        0   \n",
       "3                   5       GOLD          350       1     0       1        0   \n",
       "4                   5       GOLD          425       1     0       0        0   \n",
       "5                   5    DIAMOND          484       0     1       0        0   \n",
       "6                   2     SILVER          206       0     1       1        0   \n",
       "7                   2    DIAMOND          282       1     0       0        1   \n",
       "8                   3       GOLD          251       0     1       1        0   \n",
       "9                   3       GOLD          342       0     1       1        0   \n",
       "\n",
       "   Spain  Age_group  \n",
       "0      0        40s  \n",
       "1      1        40s  \n",
       "2      0        40s  \n",
       "3      0        30s  \n",
       "4      1        40s  \n",
       "5      1        40s  \n",
       "6      0        50s  \n",
       "7      0        20s  \n",
       "8      0        40s  \n",
       "9      0        20s  \n",
       "\n",
       "[10 rows x 21 columns]"
      ]
     },
     "execution_count": 35,
     "metadata": {},
     "output_type": "execute_result"
    }
   ],
   "source": [
    "data.head(10)"
   ]
  },
  {
   "cell_type": "code",
   "execution_count": 36,
   "id": "9e6b097d",
   "metadata": {},
   "outputs": [
    {
     "data": {
      "text/plain": [
       "<AxesSubplot:xlabel='Age_group', ylabel='count'>"
      ]
     },
     "execution_count": 36,
     "metadata": {},
     "output_type": "execute_result"
    },
    {
     "data": {
      "image/png": "[encoded data removed]",
      "text/plain": [
       "<Figure size 720x432 with 1 Axes>"
      ]
     },
     "metadata": {
      "needs_background": "light"
     },
     "output_type": "display_data"
    }
   ],
   "source": [
    "sns.countplot(x=data['Age_group'], hue=data['Exited'])"
   ]
  },
  {
   "cell_type": "markdown",
   "id": "52195126",
   "metadata": {},
   "source": [
    "Most of the customers who churn are located in the 40s age group."
   ]
  },
  {
   "cell_type": "markdown",
   "id": "7878d7fc",
   "metadata": {},
   "source": [
    "## Resampling Method (Equal samples for each class target)"
   ]
  },
  {
   "cell_type": "code",
   "execution_count": 37,
   "id": "39686e8c",
   "metadata": {},
   "outputs": [],
   "source": [
    "from sklearn.utils import resample\n",
    "\n",
    "train_data = pd.concat([X_train, y_train], axis=1)\n",
    "major_class = train_data.loc[train_data['Exited']=='0']\n",
    "minor_class = train_data.loc[train_data['Exited']=='1']\n",
    "minor_upsampled = resample(minor_class, replace=True, n_samples=len(major_class),\n",
    "                          random_state=42)\n",
    "upsampled_df = pd.concat([major_class, minor_upsampled])\n",
    "X_train = upsampled_df.drop('Exited', axis=1)\n",
    "y_train = upsampled_df['Exited']"
   ]
  },
  {
   "cell_type": "markdown",
   "id": "9a408cb4",
   "metadata": {},
   "source": [
    "## Logistic Regression"
   ]
  },
  {
   "cell_type": "code",
   "execution_count": 38,
   "id": "a28b34c9",
   "metadata": {},
   "outputs": [
    {
     "name": "stdout",
     "output_type": "stream",
     "text": [
      "Fitting 5 folds for each of 6 candidates, totalling 30 fits\n"
     ]
    }
   ],
   "source": [
    "parameters = {'model__C':[0.01,0.1,1], \n",
    "              'model__penalty':['l2'], \n",
    "              'model__solver':['lbfgs','newton-cholesky']}\n",
    "LR_model = build_model(LogisticRegression(random_state=42), parameters)"
   ]
  },
  {
   "cell_type": "code",
   "execution_count": 39,
   "id": "f23dc98a",
   "metadata": {},
   "outputs": [
    {
     "name": "stdout",
     "output_type": "stream",
     "text": [
      "The best parameters are: {'model__C': 0.01, 'model__penalty': 'l2', 'model__solver': 'lbfgs'}\n",
      "The best score on training set is: 0.6986624704956728\n",
      "Accuracy on test set:  0.7185\n",
      "The classification scores are:\n",
      "              precision    recall  f1-score   support\n",
      "\n",
      "           0       0.72      0.91      0.80      1268\n",
      "           1       0.72      0.38      0.50       732\n",
      "\n",
      "    accuracy                           0.72      2000\n",
      "   macro avg       0.72      0.65      0.65      2000\n",
      "weighted avg       0.72      0.72      0.69      2000\n",
      "\n"
     ]
    }
   ],
   "source": [
    "evaluate(LR_model)"
   ]
  },
  {
   "cell_type": "code",
   "execution_count": 40,
   "id": "3f4f9cf6",
   "metadata": {},
   "outputs": [
    {
     "data": {
      "image/png": "[encoded data removed]",
      "text/plain": [
       "<Figure size 720x432 with 2 Axes>"
      ]
     },
     "metadata": {
      "needs_background": "light"
     },
     "output_type": "display_data"
    }
   ],
   "source": [
    "plot_cm(LR_model, 'Logistic Regression')"
   ]
  },
  {
   "cell_type": "markdown",
   "id": "ac3272cb",
   "metadata": {},
   "source": [
    "The accuracy score is lower than with imbalanced dataset. This can indicate that earlier model may not generalise to outside data."
   ]
  },
  {
   "cell_type": "markdown",
   "id": "b03be1a4",
   "metadata": {},
   "source": [
    "## Gradient Boosting Classification"
   ]
  },
  {
   "cell_type": "code",
   "execution_count": 41,
   "id": "6882ed6f",
   "metadata": {},
   "outputs": [
    {
     "name": "stdout",
     "output_type": "stream",
     "text": [
      "Fitting 5 folds for each of 24 candidates, totalling 120 fits\n"
     ]
    }
   ],
   "source": [
    "parameters = {'model__n_estimators':[100], \n",
    "              'model__criterion':['friedman_mse', 'squared_error'],\n",
    "              'model__learning_rate':[0.1,0.2],\n",
    "              'model__max_features':[5,10,None],\n",
    "              'model__subsample':[1,0.9]}\n",
    "gb_model = build_model(GradientBoostingClassifier(random_state=42), parameters)"
   ]
  },
  {
   "cell_type": "code",
   "execution_count": 42,
   "id": "8f5ca6a2",
   "metadata": {},
   "outputs": [
    {
     "name": "stdout",
     "output_type": "stream",
     "text": [
      "The best parameters are: {'model__criterion': 'friedman_mse', 'model__learning_rate': 0.2, 'model__max_features': None, 'model__n_estimators': 100, 'model__subsample': 1}\n",
      "The best score on training set is: 0.8146341463414635\n",
      "Accuracy on test set:  0.8165\n",
      "The classification scores are:\n",
      "              precision    recall  f1-score   support\n",
      "\n",
      "           0       0.83      0.93      0.88      1426\n",
      "           1       0.76      0.52      0.62       574\n",
      "\n",
      "    accuracy                           0.82      2000\n",
      "   macro avg       0.80      0.73      0.75      2000\n",
      "weighted avg       0.81      0.82      0.80      2000\n",
      "\n"
     ]
    }
   ],
   "source": [
    "evaluate(gb_model)"
   ]
  },
  {
   "cell_type": "code",
   "execution_count": 43,
   "id": "900b4462",
   "metadata": {},
   "outputs": [
    {
     "data": {
      "image/png": "[encoded data removed]",
      "text/plain": [
       "<Figure size 720x432 with 2 Axes>"
      ]
     },
     "metadata": {
      "needs_background": "light"
     },
     "output_type": "display_data"
    }
   ],
   "source": [
    "plot_cm(gb_model, 'Gradient Boost')"
   ]
  },
  {
   "cell_type": "markdown",
   "id": "b5183918",
   "metadata": {},
   "source": [
    "The accuracy score is better now. Recall has increased greatly with gradient boosting. Now, we need to repeat the same process using RFECV."
   ]
  },
  {
   "cell_type": "code",
   "execution_count": 44,
   "id": "926cb487",
   "metadata": {},
   "outputs": [
    {
     "data": {
      "text/html": [
       "<style>#sk-container-id-3 {color: black;background-color: white;}#sk-container-id-3 pre{padding: 0;}#sk-container-id-3 div.sk-toggleable {background-color: white;}#sk-container-id-3 label.sk-toggleable__label {cursor: pointer;display: block;width: 100%;margin-bottom: 0;padding: 0.3em;box-sizing: border-box;text-align: center;}#sk-container-id-3 label.sk-toggleable__label-arrow:before {content: \"▸\";float: left;margin-right: 0.25em;color: #696969;}#sk-container-id-3 label.sk-toggleable__label-arrow:hover:before {color: black;}#sk-container-id-3 div.sk-estimator:hover label.sk-toggleable__label-arrow:before {color: black;}#sk-container-id-3 div.sk-toggleable__content {max-height: 0;max-width: 0;overflow: hidden;text-align: left;background-color: #f0f8ff;}#sk-container-id-3 div.sk-toggleable__content pre {margin: 0.2em;color: black;border-radius: 0.25em;background-color: #f0f8ff;}#sk-container-id-3 input.sk-toggleable__control:checked~div.sk-toggleable__content {max-height: 200px;max-width: 100%;overflow: auto;}#sk-container-id-3 input.sk-toggleable__control:checked~label.sk-toggleable__label-arrow:before {content: \"▾\";}#sk-container-id-3 div.sk-estimator input.sk-toggleable__control:checked~label.sk-toggleable__label {background-color: #d4ebff;}#sk-container-id-3 div.sk-label input.sk-toggleable__control:checked~label.sk-toggleable__label {background-color: #d4ebff;}#sk-container-id-3 input.sk-hidden--visually {border: 0;clip: rect(1px 1px 1px 1px);clip: rect(1px, 1px, 1px, 1px);height: 1px;margin: -1px;overflow: hidden;padding: 0;position: absolute;width: 1px;}#sk-container-id-3 div.sk-estimator {font-family: monospace;background-color: #f0f8ff;border: 1px dotted black;border-radius: 0.25em;box-sizing: border-box;margin-bottom: 0.5em;}#sk-container-id-3 div.sk-estimator:hover {background-color: #d4ebff;}#sk-container-id-3 div.sk-parallel-item::after {content: \"\";width: 100%;border-bottom: 1px solid gray;flex-grow: 1;}#sk-container-id-3 div.sk-label:hover label.sk-toggleable__label {background-color: #d4ebff;}#sk-container-id-3 div.sk-serial::before {content: \"\";position: absolute;border-left: 1px solid gray;box-sizing: border-box;top: 0;bottom: 0;left: 50%;z-index: 0;}#sk-container-id-3 div.sk-serial {display: flex;flex-direction: column;align-items: center;background-color: white;padding-right: 0.2em;padding-left: 0.2em;position: relative;}#sk-container-id-3 div.sk-item {position: relative;z-index: 1;}#sk-container-id-3 div.sk-parallel {display: flex;align-items: stretch;justify-content: center;background-color: white;position: relative;}#sk-container-id-3 div.sk-item::before, #sk-container-id-3 div.sk-parallel-item::before {content: \"\";position: absolute;border-left: 1px solid gray;box-sizing: border-box;top: 0;bottom: 0;left: 50%;z-index: -1;}#sk-container-id-3 div.sk-parallel-item {display: flex;flex-direction: column;z-index: 1;position: relative;background-color: white;}#sk-container-id-3 div.sk-parallel-item:first-child::after {align-self: flex-end;width: 50%;}#sk-container-id-3 div.sk-parallel-item:last-child::after {align-self: flex-start;width: 50%;}#sk-container-id-3 div.sk-parallel-item:only-child::after {width: 0;}#sk-container-id-3 div.sk-dashed-wrapped {border: 1px dashed gray;margin: 0 0.4em 0.5em 0.4em;box-sizing: border-box;padding-bottom: 0.4em;background-color: white;}#sk-container-id-3 div.sk-label label {font-family: monospace;font-weight: bold;display: inline-block;line-height: 1.2em;}#sk-container-id-3 div.sk-label-container {text-align: center;}#sk-container-id-3 div.sk-container {/* jupyter's `normalize.less` sets `[hidden] { display: none; }` but bootstrap.min.css set `[hidden] { display: none !important; }` so we also need the `!important` here to be able to override the default hidden behavior on the sphinx rendered scikit-learn.org. See: https://github.com/scikit-learn/scikit-learn/issues/21755 */display: inline-block !important;position: relative;}#sk-container-id-3 div.sk-text-repr-fallback {display: none;}</style><div id=\"sk-container-id-3\" class=\"sk-top-container\"><div class=\"sk-text-repr-fallback\"><pre>RFECV(cv=StratifiedKFold(n_splits=5, random_state=None, shuffle=False),\n",
       "      estimator=GradientBoostingClassifier(learning_rate=0.2, random_state=42,\n",
       "                                           subsample=1))</pre><b>In a Jupyter environment, please rerun this cell to show the HTML representation or trust the notebook. <br />On GitHub, the HTML representation is unable to render, please try loading this page with nbviewer.org.</b></div><div class=\"sk-container\" hidden><div class=\"sk-item sk-dashed-wrapped\"><div class=\"sk-label-container\"><div class=\"sk-label sk-toggleable\"><input class=\"sk-toggleable__control sk-hidden--visually\" id=\"sk-estimator-id-5\" type=\"checkbox\" ><label for=\"sk-estimator-id-5\" class=\"sk-toggleable__label sk-toggleable__label-arrow\">RFECV</label><div class=\"sk-toggleable__content\"><pre>RFECV(cv=StratifiedKFold(n_splits=5, random_state=None, shuffle=False),\n",
       "      estimator=GradientBoostingClassifier(learning_rate=0.2, random_state=42,\n",
       "                                           subsample=1))</pre></div></div></div><div class=\"sk-parallel\"><div class=\"sk-parallel-item\"><div class=\"sk-item\"><div class=\"sk-label-container\"><div class=\"sk-label sk-toggleable\"><input class=\"sk-toggleable__control sk-hidden--visually\" id=\"sk-estimator-id-6\" type=\"checkbox\" ><label for=\"sk-estimator-id-6\" class=\"sk-toggleable__label sk-toggleable__label-arrow\">estimator: GradientBoostingClassifier</label><div class=\"sk-toggleable__content\"><pre>GradientBoostingClassifier(learning_rate=0.2, random_state=42, subsample=1)</pre></div></div></div><div class=\"sk-serial\"><div class=\"sk-item\"><div class=\"sk-estimator sk-toggleable\"><input class=\"sk-toggleable__control sk-hidden--visually\" id=\"sk-estimator-id-7\" type=\"checkbox\" ><label for=\"sk-estimator-id-7\" class=\"sk-toggleable__label sk-toggleable__label-arrow\">GradientBoostingClassifier</label><div class=\"sk-toggleable__content\"><pre>GradientBoostingClassifier(learning_rate=0.2, random_state=42, subsample=1)</pre></div></div></div></div></div></div></div></div></div></div>"
      ],
      "text/plain": [
       "RFECV(cv=StratifiedKFold(n_splits=5, random_state=None, shuffle=False),\n",
       "      estimator=GradientBoostingClassifier(learning_rate=0.2, random_state=42,\n",
       "                                           subsample=1))"
      ]
     },
     "execution_count": 44,
     "metadata": {},
     "output_type": "execute_result"
    }
   ],
   "source": [
    "estimator = GradientBoostingClassifier(random_state=42, criterion='friedman_mse', learning_rate= 0.2, \n",
    "                                       max_features=None, n_estimators=100, subsample=1)\n",
    "\n",
    "rfecv = RFECV(estimator=estimator, cv=StratifiedKFold(n_splits=5))\n",
    "rfecv.fit(X_train, y_train)"
   ]
  },
  {
   "cell_type": "code",
   "execution_count": 45,
   "id": "956f2deb",
   "metadata": {},
   "outputs": [
    {
     "data": {
      "text/plain": [
       "Index(['CreditScore', 'Age', 'Tenure', 'Balance', 'NumOfProducts',\n",
       "       'IsActiveMember', 'EstimatedSalary', 'Satisfaction Score',\n",
       "       'Point Earned', 'Female', 'Germany'],\n",
       "      dtype='object')"
      ]
     },
     "execution_count": 45,
     "metadata": {},
     "output_type": "execute_result"
    }
   ],
   "source": [
    "selected_features = X_train.columns[rfecv.support_]\n",
    "selected_features"
   ]
  },
  {
   "cell_type": "code",
   "execution_count": 46,
   "id": "dd899953",
   "metadata": {},
   "outputs": [
    {
     "data": {
      "image/png": "[encoded data removed]",
      "text/plain": [
       "<Figure size 720x432 with 1 Axes>"
      ]
     },
     "metadata": {
      "needs_background": "light"
     },
     "output_type": "display_data"
    }
   ],
   "source": [
    "plt.figure()\n",
    "plt.grid(True)\n",
    "plt.xlabel(\"Number of features selected\")\n",
    "plt.ylabel(\"Cross-validation score (accuracy)\")\n",
    "plt.plot(range(1, len(rfecv.cv_results_['mean_test_score']) + 1), rfecv.cv_results_['mean_test_score'],\n",
    "        marker='o', color='#3282b8', markerfacecolor = 'None', markeredgecolor = '#3282b8', markeredgewidth = 1.2)\n",
    "plt.plot(11, rfecv.cv_results_['mean_test_score'][10], marker='o', markerfacecolor = '#3282b8', markeredgewidth = 1.2)\n",
    "plt.show()"
   ]
  },
  {
   "cell_type": "markdown",
   "id": "70e7d2a4",
   "metadata": {},
   "source": [
    "With balanced dataset/resample, the accuracy score peaks with 11 features. The accuracy stopped increasing after 6 features which is the same with earlier experiment."
   ]
  },
  {
   "cell_type": "code",
   "execution_count": 47,
   "id": "8f4d13b9",
   "metadata": {},
   "outputs": [
    {
     "data": {
      "text/html": [
       "<style>#sk-container-id-4 {color: black;background-color: white;}#sk-container-id-4 pre{padding: 0;}#sk-container-id-4 div.sk-toggleable {background-color: white;}#sk-container-id-4 label.sk-toggleable__label {cursor: pointer;display: block;width: 100%;margin-bottom: 0;padding: 0.3em;box-sizing: border-box;text-align: center;}#sk-container-id-4 label.sk-toggleable__label-arrow:before {content: \"▸\";float: left;margin-right: 0.25em;color: #696969;}#sk-container-id-4 label.sk-toggleable__label-arrow:hover:before {color: black;}#sk-container-id-4 div.sk-estimator:hover label.sk-toggleable__label-arrow:before {color: black;}#sk-container-id-4 div.sk-toggleable__content {max-height: 0;max-width: 0;overflow: hidden;text-align: left;background-color: #f0f8ff;}#sk-container-id-4 div.sk-toggleable__content pre {margin: 0.2em;color: black;border-radius: 0.25em;background-color: #f0f8ff;}#sk-container-id-4 input.sk-toggleable__control:checked~div.sk-toggleable__content {max-height: 200px;max-width: 100%;overflow: auto;}#sk-container-id-4 input.sk-toggleable__control:checked~label.sk-toggleable__label-arrow:before {content: \"▾\";}#sk-container-id-4 div.sk-estimator input.sk-toggleable__control:checked~label.sk-toggleable__label {background-color: #d4ebff;}#sk-container-id-4 div.sk-label input.sk-toggleable__control:checked~label.sk-toggleable__label {background-color: #d4ebff;}#sk-container-id-4 input.sk-hidden--visually {border: 0;clip: rect(1px 1px 1px 1px);clip: rect(1px, 1px, 1px, 1px);height: 1px;margin: -1px;overflow: hidden;padding: 0;position: absolute;width: 1px;}#sk-container-id-4 div.sk-estimator {font-family: monospace;background-color: #f0f8ff;border: 1px dotted black;border-radius: 0.25em;box-sizing: border-box;margin-bottom: 0.5em;}#sk-container-id-4 div.sk-estimator:hover {background-color: #d4ebff;}#sk-container-id-4 div.sk-parallel-item::after {content: \"\";width: 100%;border-bottom: 1px solid gray;flex-grow: 1;}#sk-container-id-4 div.sk-label:hover label.sk-toggleable__label {background-color: #d4ebff;}#sk-container-id-4 div.sk-serial::before {content: \"\";position: absolute;border-left: 1px solid gray;box-sizing: border-box;top: 0;bottom: 0;left: 50%;z-index: 0;}#sk-container-id-4 div.sk-serial {display: flex;flex-direction: column;align-items: center;background-color: white;padding-right: 0.2em;padding-left: 0.2em;position: relative;}#sk-container-id-4 div.sk-item {position: relative;z-index: 1;}#sk-container-id-4 div.sk-parallel {display: flex;align-items: stretch;justify-content: center;background-color: white;position: relative;}#sk-container-id-4 div.sk-item::before, #sk-container-id-4 div.sk-parallel-item::before {content: \"\";position: absolute;border-left: 1px solid gray;box-sizing: border-box;top: 0;bottom: 0;left: 50%;z-index: -1;}#sk-container-id-4 div.sk-parallel-item {display: flex;flex-direction: column;z-index: 1;position: relative;background-color: white;}#sk-container-id-4 div.sk-parallel-item:first-child::after {align-self: flex-end;width: 50%;}#sk-container-id-4 div.sk-parallel-item:last-child::after {align-self: flex-start;width: 50%;}#sk-container-id-4 div.sk-parallel-item:only-child::after {width: 0;}#sk-container-id-4 div.sk-dashed-wrapped {border: 1px dashed gray;margin: 0 0.4em 0.5em 0.4em;box-sizing: border-box;padding-bottom: 0.4em;background-color: white;}#sk-container-id-4 div.sk-label label {font-family: monospace;font-weight: bold;display: inline-block;line-height: 1.2em;}#sk-container-id-4 div.sk-label-container {text-align: center;}#sk-container-id-4 div.sk-container {/* jupyter's `normalize.less` sets `[hidden] { display: none; }` but bootstrap.min.css set `[hidden] { display: none !important; }` so we also need the `!important` here to be able to override the default hidden behavior on the sphinx rendered scikit-learn.org. See: https://github.com/scikit-learn/scikit-learn/issues/21755 */display: inline-block !important;position: relative;}#sk-container-id-4 div.sk-text-repr-fallback {display: none;}</style><div id=\"sk-container-id-4\" class=\"sk-top-container\"><div class=\"sk-text-repr-fallback\"><pre>GradientBoostingClassifier(learning_rate=0.2, random_state=42, subsample=1)</pre><b>In a Jupyter environment, please rerun this cell to show the HTML representation or trust the notebook. <br />On GitHub, the HTML representation is unable to render, please try loading this page with nbviewer.org.</b></div><div class=\"sk-container\" hidden><div class=\"sk-item\"><div class=\"sk-estimator sk-toggleable\"><input class=\"sk-toggleable__control sk-hidden--visually\" id=\"sk-estimator-id-8\" type=\"checkbox\" checked><label for=\"sk-estimator-id-8\" class=\"sk-toggleable__label sk-toggleable__label-arrow\">GradientBoostingClassifier</label><div class=\"sk-toggleable__content\"><pre>GradientBoostingClassifier(learning_rate=0.2, random_state=42, subsample=1)</pre></div></div></div></div></div>"
      ],
      "text/plain": [
       "GradientBoostingClassifier(learning_rate=0.2, random_state=42, subsample=1)"
      ]
     },
     "execution_count": 47,
     "metadata": {},
     "output_type": "execute_result"
    }
   ],
   "source": [
    "estimator.fit(X_train, y_train)"
   ]
  },
  {
   "cell_type": "code",
   "execution_count": 48,
   "id": "3dc2f677",
   "metadata": {},
   "outputs": [
    {
     "data": {
      "text/plain": [
       "Index(['HasCrCard', 'Spain', 'Satisfaction Score', 'France', 'Female', 'Male',\n",
       "       'Tenure', 'CreditScore', 'Point Earned', 'EstimatedSalary', 'Germany',\n",
       "       'IsActiveMember', 'Balance', 'NumOfProducts', 'Age'],\n",
       "      dtype='object')"
      ]
     },
     "execution_count": 48,
     "metadata": {},
     "output_type": "execute_result"
    }
   ],
   "source": [
    "sort_indices = estimator.feature_importances_.argsort()\n",
    "X_train.columns[sort_indices]"
   ]
  },
  {
   "cell_type": "code",
   "execution_count": 49,
   "id": "cf3d4dfc",
   "metadata": {},
   "outputs": [
    {
     "data": {
      "image/png": "[encoded data removed]",
      "text/plain": [
       "<Figure size 720x432 with 1 Axes>"
      ]
     },
     "metadata": {
      "needs_background": "light"
     },
     "output_type": "display_data"
    }
   ],
   "source": [
    "plt.figure()\n",
    "plt.title(\"Feature Importance\")\n",
    "plt.barh(range(X_train.shape[1]), estimator.feature_importances_[sort_indices])\n",
    "plt.yticks(range(X_train.shape[1]), X_train.columns[sort_indices], rotation=0)\n",
    "plt.show()"
   ]
  },
  {
   "cell_type": "markdown",
   "id": "eff27879",
   "metadata": {},
   "source": [
    "The top 2 features are still age and number of products. The difference is in the third place which now has became balance. "
   ]
  },
  {
   "cell_type": "code",
   "execution_count": null,
   "id": "9124869c",
   "metadata": {},
   "outputs": [],
   "source": []
  }
 ],
 "metadata": {
  "kernelspec": {
   "display_name": "Python 3 (ipykernel)",
   "language": "python",
   "name": "python3"
  },
  "language_info": {
   "codemirror_mode": {
    "name": "ipython",
    "version": 3
   },
   "file_extension": ".py",
   "mimetype": "text/x-python",
   "name": "python",
   "nbconvert_exporter": "python",
   "pygments_lexer": "ipython3",
   "version": "3.8.12"
  }
 },
 "nbformat": 4,
 "nbformat_minor": 5
}
