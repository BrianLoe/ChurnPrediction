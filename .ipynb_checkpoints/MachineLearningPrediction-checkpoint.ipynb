{
 "cells": [
  {
   "cell_type": "markdown",
   "id": "d3b4565a",
   "metadata": {},
   "source": [
    "# Churn Prediction Using Classification"
   ]
  },
  {
   "cell_type": "markdown",
   "id": "9a4d1eb6",
   "metadata": {},
   "source": [
    "In here, I am going to use two methods, using the actual samples and using resampling method to make each class have equal samples. The expectation when using resampling method is to avoid bias because when testing the models with actual samples, they tend to predict all samples to not churn (because the data contain more `0` class)."
   ]
  },
  {
   "cell_type": "markdown",
   "id": "2eeb2ad9",
   "metadata": {},
   "source": [
    "# Building Models"
   ]
  },
  {
   "cell_type": "code",
   "execution_count": 215,
   "id": "c7e7869f",
   "metadata": {},
   "outputs": [],
   "source": [
    "# importing libraries\n",
    "# main libraries\n",
    "import pandas as pd\n",
    "import matplotlib\n",
    "import matplotlib.pyplot as plt\n",
    "import seaborn as sns\n",
    "import numpy as np\n",
    "# model building libraries\n",
    "from sklearn.model_selection import train_test_split, cross_val_score, GridSearchCV\n",
    "from sklearn.metrics import accuracy_score, confusion_matrix, classification_report, mean_squared_error\n",
    "from sklearn.feature_selection import RFE, RFECV\n",
    "from sklearn.linear_model import LogisticRegression\n",
    "from sklearn.tree import DecisionTreeClassifier\n",
    "from sklearn.ensemble import RandomForestClassifier, GradientBoostingClassifier\n",
    "from sklearn.pipeline import make_pipeline, Pipeline\n",
    "from sklearn.preprocessing import StandardScaler\n",
    "%matplotlib inline\n",
    "plt.rcParams['figure.figsize']=(10,6)"
   ]
  },
  {
   "cell_type": "code",
   "execution_count": 2,
   "id": "f0b369a4",
   "metadata": {},
   "outputs": [
    {
     "data": {
      "text/html": [
       "<div>\n",
       "<style scoped>\n",
       "    .dataframe tbody tr th:only-of-type {\n",
       "        vertical-align: middle;\n",
       "    }\n",
       "\n",
       "    .dataframe tbody tr th {\n",
       "        vertical-align: top;\n",
       "    }\n",
       "\n",
       "    .dataframe thead th {\n",
       "        text-align: right;\n",
       "    }\n",
       "</style>\n",
       "<table border=\"1\" class=\"dataframe\">\n",
       "  <thead>\n",
       "    <tr style=\"text-align: right;\">\n",
       "      <th></th>\n",
       "      <th>CustomerId</th>\n",
       "      <th>Surname</th>\n",
       "      <th>CreditScore</th>\n",
       "      <th>Age</th>\n",
       "      <th>Tenure</th>\n",
       "      <th>Balance</th>\n",
       "      <th>NumOfProducts</th>\n",
       "      <th>HasCrCard</th>\n",
       "      <th>IsActiveMember</th>\n",
       "      <th>EstimatedSalary</th>\n",
       "      <th>Exited</th>\n",
       "      <th>Complain</th>\n",
       "      <th>Satisfaction Score</th>\n",
       "      <th>Card Type</th>\n",
       "      <th>Point Earned</th>\n",
       "      <th>Female</th>\n",
       "      <th>Male</th>\n",
       "      <th>France</th>\n",
       "      <th>Germany</th>\n",
       "      <th>Spain</th>\n",
       "    </tr>\n",
       "  </thead>\n",
       "  <tbody>\n",
       "    <tr>\n",
       "      <th>0</th>\n",
       "      <td>15634602</td>\n",
       "      <td>Hargrave</td>\n",
       "      <td>619</td>\n",
       "      <td>42</td>\n",
       "      <td>2</td>\n",
       "      <td>0.00</td>\n",
       "      <td>1</td>\n",
       "      <td>1</td>\n",
       "      <td>1</td>\n",
       "      <td>101348.88</td>\n",
       "      <td>1</td>\n",
       "      <td>1</td>\n",
       "      <td>2</td>\n",
       "      <td>DIAMOND</td>\n",
       "      <td>464</td>\n",
       "      <td>1</td>\n",
       "      <td>0</td>\n",
       "      <td>1</td>\n",
       "      <td>0</td>\n",
       "      <td>0</td>\n",
       "    </tr>\n",
       "    <tr>\n",
       "      <th>1</th>\n",
       "      <td>15647311</td>\n",
       "      <td>Hill</td>\n",
       "      <td>608</td>\n",
       "      <td>41</td>\n",
       "      <td>1</td>\n",
       "      <td>83807.86</td>\n",
       "      <td>1</td>\n",
       "      <td>0</td>\n",
       "      <td>1</td>\n",
       "      <td>112542.58</td>\n",
       "      <td>0</td>\n",
       "      <td>1</td>\n",
       "      <td>3</td>\n",
       "      <td>DIAMOND</td>\n",
       "      <td>456</td>\n",
       "      <td>1</td>\n",
       "      <td>0</td>\n",
       "      <td>0</td>\n",
       "      <td>0</td>\n",
       "      <td>1</td>\n",
       "    </tr>\n",
       "    <tr>\n",
       "      <th>2</th>\n",
       "      <td>15619304</td>\n",
       "      <td>Onio</td>\n",
       "      <td>502</td>\n",
       "      <td>42</td>\n",
       "      <td>8</td>\n",
       "      <td>159660.80</td>\n",
       "      <td>3</td>\n",
       "      <td>1</td>\n",
       "      <td>0</td>\n",
       "      <td>113931.57</td>\n",
       "      <td>1</td>\n",
       "      <td>1</td>\n",
       "      <td>3</td>\n",
       "      <td>DIAMOND</td>\n",
       "      <td>377</td>\n",
       "      <td>1</td>\n",
       "      <td>0</td>\n",
       "      <td>1</td>\n",
       "      <td>0</td>\n",
       "      <td>0</td>\n",
       "    </tr>\n",
       "    <tr>\n",
       "      <th>3</th>\n",
       "      <td>15701354</td>\n",
       "      <td>Boni</td>\n",
       "      <td>699</td>\n",
       "      <td>39</td>\n",
       "      <td>1</td>\n",
       "      <td>0.00</td>\n",
       "      <td>2</td>\n",
       "      <td>0</td>\n",
       "      <td>0</td>\n",
       "      <td>93826.63</td>\n",
       "      <td>0</td>\n",
       "      <td>0</td>\n",
       "      <td>5</td>\n",
       "      <td>GOLD</td>\n",
       "      <td>350</td>\n",
       "      <td>1</td>\n",
       "      <td>0</td>\n",
       "      <td>1</td>\n",
       "      <td>0</td>\n",
       "      <td>0</td>\n",
       "    </tr>\n",
       "    <tr>\n",
       "      <th>4</th>\n",
       "      <td>15737888</td>\n",
       "      <td>Mitchell</td>\n",
       "      <td>850</td>\n",
       "      <td>43</td>\n",
       "      <td>2</td>\n",
       "      <td>125510.82</td>\n",
       "      <td>1</td>\n",
       "      <td>1</td>\n",
       "      <td>1</td>\n",
       "      <td>79084.10</td>\n",
       "      <td>0</td>\n",
       "      <td>0</td>\n",
       "      <td>5</td>\n",
       "      <td>GOLD</td>\n",
       "      <td>425</td>\n",
       "      <td>1</td>\n",
       "      <td>0</td>\n",
       "      <td>0</td>\n",
       "      <td>0</td>\n",
       "      <td>1</td>\n",
       "    </tr>\n",
       "  </tbody>\n",
       "</table>\n",
       "</div>"
      ],
      "text/plain": [
       "   CustomerId   Surname  CreditScore  Age  Tenure    Balance  NumOfProducts  \\\n",
       "0    15634602  Hargrave          619   42       2       0.00              1   \n",
       "1    15647311      Hill          608   41       1   83807.86              1   \n",
       "2    15619304      Onio          502   42       8  159660.80              3   \n",
       "3    15701354      Boni          699   39       1       0.00              2   \n",
       "4    15737888  Mitchell          850   43       2  125510.82              1   \n",
       "\n",
       "   HasCrCard  IsActiveMember  EstimatedSalary  Exited  Complain  \\\n",
       "0          1               1        101348.88       1         1   \n",
       "1          0               1        112542.58       0         1   \n",
       "2          1               0        113931.57       1         1   \n",
       "3          0               0         93826.63       0         0   \n",
       "4          1               1         79084.10       0         0   \n",
       "\n",
       "   Satisfaction Score Card Type  Point Earned  Female  Male  France  Germany  \\\n",
       "0                   2   DIAMOND           464       1     0       1        0   \n",
       "1                   3   DIAMOND           456       1     0       0        0   \n",
       "2                   3   DIAMOND           377       1     0       1        0   \n",
       "3                   5      GOLD           350       1     0       1        0   \n",
       "4                   5      GOLD           425       1     0       0        0   \n",
       "\n",
       "   Spain  \n",
       "0      0  \n",
       "1      1  \n",
       "2      0  \n",
       "3      0  \n",
       "4      1  "
      ]
     },
     "execution_count": 2,
     "metadata": {},
     "output_type": "execute_result"
    }
   ],
   "source": [
    "data = pd.read_csv('PrepChurnData.csv')\n",
    "data.head()"
   ]
  },
  {
   "cell_type": "code",
   "execution_count": 175,
   "id": "801aef81",
   "metadata": {},
   "outputs": [],
   "source": [
    "features = ['CreditScore','Age','Tenure','Balance','NumOfProducts','HasCrCard','IsActiveMember','EstimatedSalary', \n",
    "            'Satisfaction Score','Point Earned','Female','Male','France','Germany','Spain']\n",
    "target = 'Exited'"
   ]
  },
  {
   "cell_type": "code",
   "execution_count": 176,
   "id": "b23f308a",
   "metadata": {},
   "outputs": [],
   "source": [
    "train, test = train_test_split(data, test_size=0.2,random_state=42)"
   ]
  },
  {
   "cell_type": "code",
   "execution_count": 177,
   "id": "f9708aa8",
   "metadata": {},
   "outputs": [],
   "source": [
    "X_train = train[features]\n",
    "y_train = train[target].astype(str)\n",
    "X_test = test[features]\n",
    "y_test = test[target].astype(str)"
   ]
  },
  {
   "cell_type": "code",
   "execution_count": 178,
   "id": "2918eecd",
   "metadata": {},
   "outputs": [
    {
     "name": "stdout",
     "output_type": "stream",
     "text": [
      "Number of training samples: 8000\n",
      "Number of test samples: 2000\n"
     ]
    }
   ],
   "source": [
    "print('Number of training samples:', X_train.shape[0])\n",
    "print('Number of test samples:', X_test.shape[0])"
   ]
  },
  {
   "cell_type": "code",
   "execution_count": 214,
   "id": "87e99e1e",
   "metadata": {},
   "outputs": [],
   "source": [
    "scores = {'test_score':[], 'val_score':[], 'rmse':[]}"
   ]
  },
  {
   "cell_type": "code",
   "execution_count": 179,
   "id": "5819ed8f",
   "metadata": {},
   "outputs": [],
   "source": [
    "def plot_cm(model, model_name):\n",
    "    yhat = model.predict(X_test)\n",
    "    matrix = confusion_matrix(yhat, y_test)\n",
    "    ax = sns.heatmap(matrix, annot=True, fmt='d', cmap='crest')\n",
    "    ax.set(title='Confusion Matrix for '+model_name, xlabel='Predicted values', ylabel='Actual Values',\n",
    "           xticklabels=['Did not churn', 'Churn'], yticklabels=['Did not churn', 'Churn'])\n",
    "    plt.show()"
   ]
  },
  {
   "cell_type": "code",
   "execution_count": 180,
   "id": "bc259723",
   "metadata": {},
   "outputs": [],
   "source": [
    "def build_model(model_name, parameters):\n",
    "    pipe = Pipeline([('scaler', StandardScaler()),('model',model_name)])\n",
    "    pipe_cv = GridSearchCV(pipe, param_grid=parameters, refit=True, verbose=1)\n",
    "    pipe_cv.fit(X_train,y_train)\n",
    "    return pipe_cv"
   ]
  },
  {
   "cell_type": "code",
   "execution_count": 216,
   "id": "4a9d7ad7",
   "metadata": {},
   "outputs": [],
   "source": [
    "def evaluate(model_name):\n",
    "    print('The best parameters are:', model_name.best_params_)\n",
    "    print('The best score on training set is:', model_name.best_score_)\n",
    "    yhat = model_name.predict(X_test)\n",
    "    test_acc = accuracy_score(yhat, y_test)\n",
    "    print('Accuracy on test set: ', test_acc)\n",
    "    print('The classification scores are:')\n",
    "    print(classification_report(yhat, y_test))\n",
    "    rmse = np.sqrt(mean_squared_error(yhat, y_test))\n",
    "    scores['val_score'].append(model_name.best_score_)\n",
    "    scores['test_score'].append(test_acc)\n",
    "    scores['rmse'].append(rmse)"
   ]
  },
  {
   "cell_type": "markdown",
   "id": "eaf651c8",
   "metadata": {},
   "source": [
    "## Logistic Regression"
   ]
  },
  {
   "cell_type": "code",
   "execution_count": 217,
   "id": "590b13b8",
   "metadata": {},
   "outputs": [
    {
     "name": "stdout",
     "output_type": "stream",
     "text": [
      "Fitting 5 folds for each of 6 candidates, totalling 30 fits\n"
     ]
    }
   ],
   "source": [
    "parameters = {'model__C':[0.01,0.1,1], \n",
    "              'model__penalty':['l2'], \n",
    "              'model__solver':['lbfgs','newton-cholesky']}\n",
    "LR_model = build_model(LogisticRegression(random_state=42), parameters)"
   ]
  },
  {
   "cell_type": "code",
   "execution_count": 218,
   "id": "835d8d05",
   "metadata": {},
   "outputs": [
    {
     "name": "stdout",
     "output_type": "stream",
     "text": [
      "The best parameters are: {'model__C': 0.01, 'model__penalty': 'l2', 'model__solver': 'lbfgs'}\n",
      "The best score on training set is: 0.8105\n",
      "Accuracy on test set:  0.813\n",
      "The classification scores are:\n",
      "              precision    recall  f1-score   support\n",
      "\n",
      "           0       0.97      0.83      0.89      1875\n",
      "           1       0.18      0.58      0.28       125\n",
      "\n",
      "    accuracy                           0.81      2000\n",
      "   macro avg       0.58      0.70      0.59      2000\n",
      "weighted avg       0.92      0.81      0.85      2000\n",
      "\n"
     ]
    }
   ],
   "source": [
    "evaluate(LR_model)"
   ]
  },
  {
   "cell_type": "code",
   "execution_count": 219,
   "id": "240ebe36",
   "metadata": {},
   "outputs": [
    {
     "data": {
      "image/png": "[encoded data removed]",
      "text/plain": [
       "<Figure size 720x432 with 2 Axes>"
      ]
     },
     "metadata": {
      "needs_background": "light"
     },
     "output_type": "display_data"
    }
   ],
   "source": [
    "plot_cm(LR_model, 'Logistic Regression')"
   ]
  },
  {
   "cell_type": "markdown",
   "id": "9a9deace",
   "metadata": {},
   "source": [
    "## Decision Tree Classification"
   ]
  },
  {
   "cell_type": "code",
   "execution_count": 221,
   "id": "130bd212",
   "metadata": {},
   "outputs": [
    {
     "name": "stdout",
     "output_type": "stream",
     "text": [
      "Fitting 5 folds for each of 24 candidates, totalling 120 fits\n"
     ]
    }
   ],
   "source": [
    "parameters = {'model__criterion':['gini','entropy'],\n",
    "              'model__max_depth':[2,4,8], \n",
    "              'model__max_features':[5,10,None,'sqrt']}\n",
    "tree_model = build_model(DecisionTreeClassifier(random_state=42), parameters)"
   ]
  },
  {
   "cell_type": "code",
   "execution_count": 222,
   "id": "a11fe01a",
   "metadata": {},
   "outputs": [
    {
     "name": "stdout",
     "output_type": "stream",
     "text": [
      "The best parameters are: {'model__criterion': 'gini', 'model__max_depth': 4, 'model__max_features': None}\n",
      "The best score on training set is: 0.8491250000000001\n",
      "Accuracy on test set:  0.8535\n",
      "The classification scores are:\n",
      "              precision    recall  f1-score   support\n",
      "\n",
      "           0       0.97      0.86      0.91      1812\n",
      "           1       0.37      0.77      0.50       188\n",
      "\n",
      "    accuracy                           0.85      2000\n",
      "   macro avg       0.67      0.81      0.70      2000\n",
      "weighted avg       0.92      0.85      0.87      2000\n",
      "\n"
     ]
    }
   ],
   "source": [
    "evaluate(tree_model)"
   ]
  },
  {
   "cell_type": "code",
   "execution_count": 223,
   "id": "b1f4393c",
   "metadata": {},
   "outputs": [
    {
     "data": {
      "image/png": "[encoded data removed]",
      "text/plain": [
       "<Figure size 720x432 with 2 Axes>"
      ]
     },
     "metadata": {
      "needs_background": "light"
     },
     "output_type": "display_data"
    }
   ],
   "source": [
    "plot_cm(tree_model, 'Decision Tree')"
   ]
  },
  {
   "cell_type": "markdown",
   "id": "70358397",
   "metadata": {},
   "source": [
    "## Random Forest Classification"
   ]
  },
  {
   "cell_type": "code",
   "execution_count": 224,
   "id": "b8f0960b",
   "metadata": {},
   "outputs": [
    {
     "name": "stdout",
     "output_type": "stream",
     "text": [
      "Fitting 5 folds for each of 32 candidates, totalling 160 fits\n"
     ]
    }
   ],
   "source": [
    "parameters={'model__n_estimators':[100,150], \n",
    "            'model__criterion':['gini','entropy'],\n",
    "            'model__max_depth':[2,4],\n",
    "            'model__max_features':[5,10,'sqrt',None]}\n",
    "rf_model = build_model(RandomForestClassifier(random_state=42), parameters)"
   ]
  },
  {
   "cell_type": "code",
   "execution_count": 225,
   "id": "ecc2fd51",
   "metadata": {},
   "outputs": [
    {
     "name": "stdout",
     "output_type": "stream",
     "text": [
      "The best parameters are: {'model__criterion': 'gini', 'model__max_depth': 4, 'model__max_features': 10, 'model__n_estimators': 150}\n",
      "The best score on training set is: 0.85625\n",
      "Accuracy on test set:  0.8585\n",
      "The classification scores are:\n",
      "              precision    recall  f1-score   support\n",
      "\n",
      "           0       0.97      0.87      0.92      1790\n",
      "           1       0.41      0.76      0.53       210\n",
      "\n",
      "    accuracy                           0.86      2000\n",
      "   macro avg       0.69      0.82      0.72      2000\n",
      "weighted avg       0.91      0.86      0.88      2000\n",
      "\n"
     ]
    }
   ],
   "source": [
    "evaluate(rf_model)"
   ]
  },
  {
   "cell_type": "code",
   "execution_count": 226,
   "id": "204d7cc3",
   "metadata": {},
   "outputs": [
    {
     "data": {
      "image/png": "[encoded data removed]",
      "text/plain": [
       "<Figure size 720x432 with 2 Axes>"
      ]
     },
     "metadata": {
      "needs_background": "light"
     },
     "output_type": "display_data"
    }
   ],
   "source": [
    "plot_cm(rf_model, 'Random Forest')"
   ]
  },
  {
   "cell_type": "markdown",
   "id": "b2eaa279",
   "metadata": {},
   "source": [
    "## Gradient Boosting"
   ]
  },
  {
   "cell_type": "code",
   "execution_count": 227,
   "id": "b18410cc",
   "metadata": {},
   "outputs": [
    {
     "name": "stdout",
     "output_type": "stream",
     "text": [
      "Fitting 5 folds for each of 48 candidates, totalling 240 fits\n"
     ]
    }
   ],
   "source": [
    "parameters = {'model__n_estimators':[100,150], \n",
    "              'model__criterion':['friedman_mse', 'squared_error'],\n",
    "              'model__learning_rate':[0.1,0.2],\n",
    "              'model__max_features':[5,10,None],\n",
    "              'model__subsample':[1,0.9]}\n",
    "gb = build_model(GradientBoostingClassifier(random_state=42), parameters)"
   ]
  },
  {
   "cell_type": "code",
   "execution_count": 228,
   "id": "a48ee97c",
   "metadata": {},
   "outputs": [
    {
     "name": "stdout",
     "output_type": "stream",
     "text": [
      "The best parameters are: {'model__criterion': 'friedman_mse', 'model__learning_rate': 0.2, 'model__max_features': 10, 'model__n_estimators': 100, 'model__subsample': 0.9}\n",
      "The best score on training set is: 0.8626250000000001\n",
      "Accuracy on test set:  0.858\n",
      "The classification scores are:\n",
      "              precision    recall  f1-score   support\n",
      "\n",
      "           0       0.95      0.88      0.91      1729\n",
      "           1       0.48      0.70      0.57       271\n",
      "\n",
      "    accuracy                           0.86      2000\n",
      "   macro avg       0.72      0.79      0.74      2000\n",
      "weighted avg       0.89      0.86      0.87      2000\n",
      "\n"
     ]
    }
   ],
   "source": [
    "evaluate(gb)"
   ]
  },
  {
   "cell_type": "code",
   "execution_count": 229,
   "id": "6be2e9c6",
   "metadata": {},
   "outputs": [
    {
     "data": {
      "image/png": "[encoded data removed]",
      "text/plain": [
       "<Figure size 720x432 with 2 Axes>"
      ]
     },
     "metadata": {
      "needs_background": "light"
     },
     "output_type": "display_data"
    }
   ],
   "source": [
    "plot_cm(gb, 'Gradient Boost')"
   ]
  },
  {
   "cell_type": "markdown",
   "id": "25100357",
   "metadata": {},
   "source": [
    "## Model Performance Comparison"
   ]
  },
  {
   "cell_type": "code",
   "execution_count": null,
   "id": "381be61a",
   "metadata": {},
   "outputs": [],
   "source": []
  }
 ],
 "metadata": {
  "kernelspec": {
   "display_name": "Python 3 (ipykernel)",
   "language": "python",
   "name": "python3"
  },
  "language_info": {
   "codemirror_mode": {
    "name": "ipython",
    "version": 3
   },
   "file_extension": ".py",
   "mimetype": "text/x-python",
   "name": "python",
   "nbconvert_exporter": "python",
   "pygments_lexer": "ipython3",
   "version": "3.8.12"
  }
 },
 "nbformat": 4,
 "nbformat_minor": 5
}
